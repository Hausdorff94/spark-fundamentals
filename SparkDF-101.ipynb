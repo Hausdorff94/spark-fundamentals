{
 "cells": [
  {
   "cell_type": "code",
   "execution_count": 45,
   "id": "acbd73bf",
   "metadata": {},
   "outputs": [],
   "source": [
    "from pyspark import SparkContext, SparkConf\n",
    "import pyspark\n",
    "from pyspark.sql import *\n",
    "from pyspark.sql.functions import *\n",
    "\n",
    "from pyspark.sql.types import (\n",
    "                                StructType,\n",
    "                                StructField,\n",
    "                                IntegerType,\n",
    "                                StringType,\n",
    "                                FloatType,\n",
    "                                Row\n",
    "                            )"
   ]
  },
  {
   "cell_type": "code",
   "execution_count": 46,
   "id": "ba5a84a5",
   "metadata": {},
   "outputs": [],
   "source": [
    "conf = SparkConf().set(\"spark.ui.port\", \"4050\")\n",
    "\n",
    "sc = pyspark.SparkContext(conf=conf)\n",
    "spark = SparkSession.builder.getOrCreate()"
   ]
  },
  {
   "cell_type": "code",
   "execution_count": 47,
   "id": "f3233d2d",
   "metadata": {},
   "outputs": [
    {
     "name": "stderr",
     "output_type": "stream",
     "text": [
      "/usr/local/lib/python3.10/dist-packages/pyspark/sql/context.py:112: FutureWarning: Deprecated in 3.0.0. Use SparkSession.builder.getOrCreate() instead.\n",
      "  warnings.warn(\n"
     ]
    }
   ],
   "source": [
    "#spark = SparkContext(master='local', appName='DataFrames')\n",
    "sqlContext = SQLContext(spark)"
   ]
  },
  {
   "cell_type": "markdown",
   "id": "c577a1e4",
   "metadata": {},
   "source": [
    "### Crear esquema"
   ]
  },
  {
   "cell_type": "code",
   "execution_count": 48,
   "id": "7ff85470",
   "metadata": {},
   "outputs": [
    {
     "name": "stdout",
     "output_type": "stream",
     "text": [
      ",nombre_juego,annio,temporada,ciudad\r\n",
      "1,1896 Verano,1896,Verano,Athina\r\n",
      "2,1900 Verano,1900,Verano,Paris\r\n",
      "3,1904 Verano,1904,Verano,St. Louis\r\n",
      "4,1906 Verano,1906,Verano,Athina\r\n",
      "5,1908 Verano,1908,Verano,London\r\n",
      "6,1912 Verano,1912,Verano,Stockholm\r\n",
      "7,1920 Verano,1920,Verano,Antwerpen\r\n",
      "8,1924 Invierno,1924,Invierno,Chamonix\r\n",
      "9,1924 Verano,1924,Verano,Paris\r\n"
     ]
    }
   ],
   "source": [
    "! head ./data/juegos.csv"
   ]
  },
  {
   "cell_type": "code",
   "execution_count": 49,
   "id": "850e242c",
   "metadata": {},
   "outputs": [],
   "source": [
    "juegoSchema = StructType(\n",
    "    [\n",
    "        StructField(\n",
    "            \"juego_id\", IntegerType(), True\n",
    "        ),\n",
    "        \n",
    "        StructField(\n",
    "            \"anio\", StringType(), False\n",
    "        ),\n",
    "        \n",
    "        StructField(\n",
    "            \"temporada\", StringType(), False\n",
    "        ),\n",
    "        \n",
    "        StructField(\n",
    "            \"ciudad\", StringType(), False\n",
    "        )\n",
    "    ]\n",
    ")"
   ]
  },
  {
   "cell_type": "markdown",
   "id": "c934d2ac",
   "metadata": {},
   "source": [
    "### Crear dataframe desde un archivo `.csv` y usando un esquema"
   ]
  },
  {
   "cell_type": "code",
   "execution_count": 50,
   "id": "e1d27d04",
   "metadata": {},
   "outputs": [
    {
     "name": "stdout",
     "output_type": "stream",
     "text": [
      "22/09/15 15:41:14 WARN CSVHeaderChecker: Number of column in CSV header is not equal to number of fields in the schema:\n",
      " Header length: 5, schema size: 4\n",
      "CSV file: file:///workspace/data/juegos.csv\n",
      "+--------+-------------+---------+--------+\n",
      "|juego_id|         anio|temporada|  ciudad|\n",
      "+--------+-------------+---------+--------+\n",
      "|       1|  1896 Verano|     1896|  Verano|\n",
      "|       2|  1900 Verano|     1900|  Verano|\n",
      "|       3|  1904 Verano|     1904|  Verano|\n",
      "|       4|  1906 Verano|     1906|  Verano|\n",
      "|       5|  1908 Verano|     1908|  Verano|\n",
      "|       6|  1912 Verano|     1912|  Verano|\n",
      "|       7|  1920 Verano|     1920|  Verano|\n",
      "|       8|1924 Invierno|     1924|Invierno|\n",
      "|       9|  1924 Verano|     1924|  Verano|\n",
      "|      10|1928 Invierno|     1928|Invierno|\n",
      "|      11|  1928 Verano|     1928|  Verano|\n",
      "|      12|1932 Invierno|     1932|Invierno|\n",
      "|      13|  1932 Verano|     1932|  Verano|\n",
      "|      14|1936 Invierno|     1936|Invierno|\n",
      "|      15|  1936 Verano|     1936|  Verano|\n",
      "|      16|1948 Invierno|     1948|Invierno|\n",
      "|      17|  1948 Verano|     1948|  Verano|\n",
      "|      18|1952 Invierno|     1952|Invierno|\n",
      "|      19|  1952 Verano|     1952|  Verano|\n",
      "|      20|1956 Invierno|     1956|Invierno|\n",
      "+--------+-------------+---------+--------+\n",
      "only showing top 20 rows\n",
      "\n"
     ]
    }
   ],
   "source": [
    "juegosDF = sqlContext.read.schema(juegoSchema)\\\n",
    "    .option(\"header\", \"true\").csv(\"./data/juegos.csv\")\n",
    "\n",
    "juegosDF.show()"
   ]
  },
  {
   "cell_type": "markdown",
   "id": "7097ccbc",
   "metadata": {},
   "source": [
    "### Inferencia tipo de datos"
   ]
  },
  {
   "cell_type": "code",
   "execution_count": 51,
   "id": "32f8d227",
   "metadata": {},
   "outputs": [
    {
     "name": "stderr",
     "output_type": "stream",
     "text": [
      "\r",
      "[Stage 1:>                                                          (0 + 1) / 1]\r",
      "\r",
      "                                                                                \r"
     ]
    },
    {
     "data": {
      "text/plain": [
       "[['deportista_id', 'nombre', 'genero', 'edad', 'altura', 'peso', 'equipo_id'],\n",
       " ['1', 'A Dijiang', '1', '24', '180', '80', '199'],\n",
       " ['2', 'A Lamusi', '1', '23', '170', '60', '199']]"
      ]
     },
     "execution_count": 51,
     "metadata": {},
     "output_type": "execute_result"
    }
   ],
   "source": [
    "player1 = sc.textFile('./data/player.csv').map(lambda x: x.split(','))\n",
    "player2 = sc.textFile('./data/player2.csv').map(lambda x: x.split(','))\n",
    "\n",
    "playerRDD = player1.union(player2)\n",
    "playerRDD.take(3)"
   ]
  },
  {
   "cell_type": "markdown",
   "id": "607025a7",
   "metadata": {},
   "source": [
    "#### Quitar el encabezado"
   ]
  },
  {
   "cell_type": "code",
   "execution_count": 52,
   "id": "bd60fbce",
   "metadata": {},
   "outputs": [],
   "source": [
    "def remove_header(index, interator):\n",
    "    return iter(list(interator)[1:])"
   ]
  },
  {
   "cell_type": "code",
   "execution_count": 53,
   "id": "4bcc6dac",
   "metadata": {},
   "outputs": [
    {
     "data": {
      "text/plain": [
       "[['1', 'A Dijiang', '1', '24', '180', '80', '199'],\n",
       " ['2', 'A Lamusi', '1', '23', '170', '60', '199'],\n",
       " ['3', 'Gunnar Nielsen Aaby', '1', '24', '0', '0', '273']]"
      ]
     },
     "execution_count": 53,
     "metadata": {},
     "output_type": "execute_result"
    }
   ],
   "source": [
    "playerRDDwoHead = playerRDD.mapPartitionsWithIndex(remove_header)\n",
    "playerRDDwoHead.take(3)"
   ]
  },
  {
   "cell_type": "markdown",
   "id": "4b3e7b33",
   "metadata": {},
   "source": [
    "### Transformar datos"
   ]
  },
  {
   "cell_type": "code",
   "execution_count": 54,
   "id": "ed9c9756",
   "metadata": {},
   "outputs": [
    {
     "data": {
      "text/plain": [
       "[(1, 'A Dijiang', 1, 24, 180, 80.0, 199),\n",
       " (2, 'A Lamusi', 1, 23, 170, 60.0, 199),\n",
       " (3, 'Gunnar Nielsen Aaby', 1, 24, 0, 0.0, 273)]"
      ]
     },
     "execution_count": 54,
     "metadata": {},
     "output_type": "execute_result"
    }
   ],
   "source": [
    "playerRDDwoHeadTrans = playerRDDwoHead.map(\n",
    "    lambda x: (\n",
    "        int(x[0]),\n",
    "        x[1],\n",
    "        int(x[2]),\n",
    "        int(x[3]),\n",
    "        int(x[4]),\n",
    "        float(x[5]),\n",
    "        int(x[6]),\n",
    "    )\n",
    ")\n",
    "playerRDDwoHeadTrans.take(3)"
   ]
  },
  {
   "cell_type": "markdown",
   "id": "c70086be",
   "metadata": {},
   "source": [
    "### Crear un dataframe desde un RDD"
   ]
  },
  {
   "cell_type": "code",
   "execution_count": 55,
   "id": "3aafc8d6",
   "metadata": {},
   "outputs": [],
   "source": [
    "player_schema = StructType(\n",
    "    [\n",
    "        StructField('deportista_id', IntegerType(), False),\n",
    "        StructField('nombre', StringType(), False),\n",
    "        StructField('genero', IntegerType(), False),\n",
    "        StructField('edad', IntegerType(), False),\n",
    "        StructField('altura', IntegerType(), False),\n",
    "        StructField('peso', FloatType(), False),\n",
    "        StructField('equipo_id', IntegerType(), False),\n",
    "        \n",
    "    ]\n",
    ")"
   ]
  },
  {
   "cell_type": "code",
   "execution_count": 56,
   "id": "994d3f8c",
   "metadata": {},
   "outputs": [
    {
     "name": "stdout",
     "output_type": "stream",
     "text": [
      "+-------------+--------------------+------+----+------+-----+---------+\n",
      "|deportista_id|              nombre|genero|edad|altura| peso|equipo_id|\n",
      "+-------------+--------------------+------+----+------+-----+---------+\n",
      "|            1|           A Dijiang|     1|  24|   180| 80.0|      199|\n",
      "|            2|            A Lamusi|     1|  23|   170| 60.0|      199|\n",
      "|            3| Gunnar Nielsen Aaby|     1|  24|     0|  0.0|      273|\n",
      "|            4|Edgar Lindenau Aabye|     1|  34|     0|  0.0|      278|\n",
      "|            5|Christine Jacoba ...|     2|  21|   185| 82.0|      705|\n",
      "|            6|     Per Knut Aaland|     1|  31|   188| 75.0|     1096|\n",
      "|            7|        John Aalberg|     1|  31|   183| 72.0|     1096|\n",
      "|            8|Cornelia Cor Aalt...|     2|  18|   168|  0.0|      705|\n",
      "|            9|    Antti Sami Aalto|     1|  26|   186| 96.0|      350|\n",
      "|           10|Einar Ferdinand E...|     1|  26|     0|  0.0|      350|\n",
      "|           11|  Jorma Ilmari Aalto|     1|  22|   182| 76.5|      350|\n",
      "|           12|   Jyri Tapani Aalto|     1|  31|   172| 70.0|      350|\n",
      "|           13|  Minna Maarit Aalto|     2|  30|   159| 55.5|      350|\n",
      "|           14|Pirjo Hannele Aal...|     2|  32|   171| 65.0|      350|\n",
      "|           15|Arvo Ossian Aaltonen|     1|  22|     0|  0.0|      350|\n",
      "|           16|Juhamatti Tapio A...|     1|  28|   184| 85.0|      350|\n",
      "|           17|Paavo Johannes Aa...|     1|  28|   175| 64.0|      350|\n",
      "|           18|Timo Antero Aaltonen|     1|  31|   189|130.0|      350|\n",
      "|           19|Win Valdemar Aalt...|     1|  54|     0|  0.0|      350|\n",
      "|           20|  Kjetil Andr Aamodt|     1|  20|   176| 85.0|      742|\n",
      "+-------------+--------------------+------+----+------+-----+---------+\n",
      "only showing top 20 rows\n",
      "\n"
     ]
    }
   ],
   "source": [
    "playerDF = sqlContext.createDataFrame(playerRDDwoHeadTrans, player_schema)\n",
    "playerDF.show()"
   ]
  },
  {
   "cell_type": "markdown",
   "id": "1527f189",
   "metadata": {},
   "source": [
    "#### Cargar el RDD para países"
   ]
  },
  {
   "cell_type": "code",
   "execution_count": 57,
   "id": "d2dccd66",
   "metadata": {},
   "outputs": [
    {
     "name": "stdout",
     "output_type": "stream",
     "text": [
      "+---+--------------------+-----+\n",
      "| id|              equipo|sigla|\n",
      "+---+--------------------+-----+\n",
      "|  1|         30. Februar|  AUT|\n",
      "|  2|A North American ...|  MEX|\n",
      "|  3|           Acipactli|  MEX|\n",
      "|  4|             Acturus|  ARG|\n",
      "|  5|         Afghanistan|  AFG|\n",
      "|  6|            Akatonbo|  IRL|\n",
      "|  7|            Alain IV|  SUI|\n",
      "|  8|             Albania|  ALB|\n",
      "|  9|              Alcaid|  POR|\n",
      "| 10|            Alcyon-6|  FRA|\n",
      "| 11|            Alcyon-7|  FRA|\n",
      "| 12|           Aldebaran|  ITA|\n",
      "| 13|        Aldebaran II|  ITA|\n",
      "| 14|              Aletta|  IRL|\n",
      "| 15|             Algeria|  ALG|\n",
      "| 16|         Ali-Baba II|  SWE|\n",
      "| 17|         Ali-Baba IV|  SUI|\n",
      "| 18|         Ali-Baba IX|  SUI|\n",
      "| 19|         Ali-Baba VI|  SUI|\n",
      "| 20|             Allegro|  FRA|\n",
      "+---+--------------------+-----+\n",
      "only showing top 20 rows\n",
      "\n"
     ]
    }
   ],
   "source": [
    "countriesRDD = sc.textFile('./data/paises.csv').map(lambda x: x.split(','))\n",
    "countriesRDDwoHead = countriesRDD.mapPartitionsWithIndex(remove_header)\n",
    "\n",
    "countriesRDDwoHeadTrans = countriesRDDwoHead.map(\n",
    "    lambda x:(\n",
    "        int(x[0]),\n",
    "        x[1],\n",
    "        x[2]\n",
    "    )\n",
    ")\n",
    "\n",
    "country_schema = StructType(\n",
    "    [\n",
    "        StructField('id', IntegerType(), False),\n",
    "        StructField('equipo', StringType(), False),\n",
    "        StructField('sigla', StringType(), False)\n",
    "    ]\n",
    ")\n",
    "countriesDF = sqlContext.createDataFrame(countriesRDDwoHeadTrans, country_schema)\n",
    "countriesDF.show()"
   ]
  },
  {
   "cell_type": "code",
   "execution_count": 58,
   "id": "3c44e752",
   "metadata": {},
   "outputs": [
    {
     "name": "stdout",
     "output_type": "stream",
     "text": [
      "deporte_id,deporte\r\n",
      "1,Basketball\r\n",
      "2,Judo\r\n",
      "3,Football\r\n",
      "4,Tug-Of-War\r\n",
      "5,Speed Skating\r\n",
      "6,Cross Country Skiing\r\n",
      "7,Athletics\r\n",
      "8,Ice Hockey\r\n",
      "9,Swimming\r\n"
     ]
    }
   ],
   "source": [
    "! head ./data/deporte.csv"
   ]
  },
  {
   "cell_type": "code",
   "execution_count": 59,
   "id": "a8830e15",
   "metadata": {},
   "outputs": [
    {
     "name": "stdout",
     "output_type": "stream",
     "text": [
      "+----------+--------------------+\n",
      "|deporte_id|             deporte|\n",
      "+----------+--------------------+\n",
      "|         1|          Basketball|\n",
      "|         2|                Judo|\n",
      "|         3|            Football|\n",
      "|         4|          Tug-Of-War|\n",
      "|         5|       Speed Skating|\n",
      "|         6|Cross Country Skiing|\n",
      "|         7|           Athletics|\n",
      "|         8|          Ice Hockey|\n",
      "|         9|            Swimming|\n",
      "|        10|           Badminton|\n",
      "|        11|             Sailing|\n",
      "|        12|            Biathlon|\n",
      "|        13|          Gymnastics|\n",
      "|        14|    Art Competitions|\n",
      "|        15|       Alpine Skiing|\n",
      "|        16|            Handball|\n",
      "|        17|       Weightlifting|\n",
      "|        18|           Wrestling|\n",
      "|        19|                Luge|\n",
      "|        20|          Water Polo|\n",
      "+----------+--------------------+\n",
      "only showing top 20 rows\n",
      "\n"
     ]
    }
   ],
   "source": [
    "sportRDD = sc.textFile('./data/deporte.csv').map(lambda x: x.split(','))\n",
    "sportRDDwoHead = sportRDD.mapPartitionsWithIndex(remove_header)\n",
    "\n",
    "sportRDDwoHeadTrans = sportRDDwoHead.map(\n",
    "    lambda x: (\n",
    "        int(x[0]),\n",
    "        str(x[1])\n",
    "    )\n",
    ")\n",
    "\n",
    "sport_schema = StructType(\n",
    "    [\n",
    "        StructField('deporte_id', IntegerType(), False),\n",
    "        StructField('deporte', StringType(), False)\n",
    "    ]\n",
    ")\n",
    "\n",
    "sportDF = sqlContext.createDataFrame(sportRDDwoHeadTrans, sport_schema)\n",
    "sportDF.show()"
   ]
  },
  {
   "cell_type": "code",
   "execution_count": 60,
   "id": "b433c0d0",
   "metadata": {},
   "outputs": [
    {
     "name": "stdout",
     "output_type": "stream",
     "text": [
      "evento_id,evento,deporte_id\r\n",
      "1,Basketball Men's Basketball,1\r\n",
      "2,Judo Men's Extra-Lightweight,2\r\n",
      "3,Football Men's Football,3\r\n",
      "4,Tug-Of-War Men's Tug-Of-War,4\r\n",
      "5,Speed Skating Women's 500 metres,5\r\n",
      "6,\"Speed Skating Women's 1,000 metres\",5\r\n",
      "7,Cross Country Skiing Men's 10 kilometres,6\r\n",
      "8,Cross Country Skiing Men's 50 kilometres,6\r\n",
      "9,Cross Country Skiing Men's 10/15 kilometres Pursuit,6\r\n"
     ]
    }
   ],
   "source": [
    "! head ./data/evento.csv"
   ]
  },
  {
   "cell_type": "markdown",
   "id": "7b55464e",
   "metadata": {},
   "source": [
    "#### Forma 1 con transformación del RDD"
   ]
  },
  {
   "cell_type": "raw",
   "id": "10604a5f",
   "metadata": {},
   "source": [
    "eventRDD = sc.textFile('./data/evento.csv').map(lambda x: x.split(','))\n",
    "\n",
    "eventRDDwoHead = eventRDD.mapPartitionsWithIndex(remove_header)\n",
    "eventRDDwoHeadTrans = eventRDDwoHead.map(\n",
    "    lambda x: (\n",
    "        int(x[0]),\n",
    "        str(x[1]),\n",
    "        int(x[2])\n",
    "    )\n",
    ")\n",
    "event_schema = StructType(\n",
    "    [\n",
    "        StructField('evento_id', IntegerType(), False),\n",
    "        StructField('evento', StringType(), False),\n",
    "        StructField('deporte_id', IntegerType(), False)\n",
    "    ]\n",
    ")\n",
    "\n",
    "\n",
    "eventDF = sqlContext.createDataFrame(eventRDDwoHeadTrans, event_schema)\n",
    "eventDF.show()"
   ]
  },
  {
   "cell_type": "markdown",
   "id": "ab554491",
   "metadata": {},
   "source": [
    "#### Forma 2 leyendo directamente el archivo `csv`"
   ]
  },
  {
   "cell_type": "code",
   "execution_count": 66,
   "id": "d1026281",
   "metadata": {},
   "outputs": [
    {
     "name": "stdout",
     "output_type": "stream",
     "text": [
      "22/09/15 15:42:17 WARN CSVHeaderChecker: CSV header does not conform to the schema.\n",
      " Header: evento_id, evento, deporte_id\n",
      " Schema: evento_id, nombre, deporte_id\n",
      "Expected: nombre but found: evento\n",
      "CSV file: file:///workspace/data/evento.csv\n",
      "+---------+--------------------+----------+\n",
      "|evento_id|              nombre|deporte_id|\n",
      "+---------+--------------------+----------+\n",
      "|        1|Basketball Men's ...|         1|\n",
      "|        2|Judo Men's Extra-...|         2|\n",
      "|        3|Football Men's Fo...|         3|\n",
      "|        4|Tug-Of-War Men's ...|         4|\n",
      "|        5|Speed Skating Wom...|         5|\n",
      "|        6|Speed Skating Wom...|         5|\n",
      "|        7|Cross Country Ski...|         6|\n",
      "|        8|Cross Country Ski...|         6|\n",
      "|        9|Cross Country Ski...|         6|\n",
      "|       10|Cross Country Ski...|         6|\n",
      "|       11|Cross Country Ski...|         6|\n",
      "|       12|Athletics Women's...|         7|\n",
      "|       13|Athletics Women's...|         7|\n",
      "|       14|Ice Hockey Men's ...|         8|\n",
      "|       15|Swimming Men's 40...|         9|\n",
      "|       16|Badminton Men's S...|        10|\n",
      "|       17|Sailing Women's W...|        11|\n",
      "|       18|Biathlon Women's ...|        12|\n",
      "|       19|Swimming Men's 20...|         9|\n",
      "|       20|Swimming Men's 40...|         9|\n",
      "+---------+--------------------+----------+\n",
      "only showing top 20 rows\n",
      "\n"
     ]
    }
   ],
   "source": [
    "event_schema = StructType(\n",
    "    [\n",
    "        StructField('evento_id', IntegerType(), False),\n",
    "        StructField('nombre', StringType(), False),\n",
    "        StructField('deporte_id', IntegerType(), False)\n",
    "    ]\n",
    ")\n",
    "eventDF = sqlContext.read.schema(event_schema).option('header', True).csv('./data/evento.csv')\n",
    "eventDF.show()"
   ]
  },
  {
   "cell_type": "code",
   "execution_count": 62,
   "id": "4bfdea9b",
   "metadata": {},
   "outputs": [
    {
     "name": "stdout",
     "output_type": "stream",
     "text": [
      "resultado_id,medalla,deportista_id,juego_id,evento_id\r\n",
      "1,NA,1,39,1\r\n",
      "2,NA,2,49,2\r\n",
      "3,NA,3,7,3\r\n",
      "4,Gold,4,2,4\r\n",
      "5,NA,5,36,5\r\n",
      "6,NA,5,36,6\r\n",
      "7,NA,5,38,5\r\n",
      "8,NA,5,38,6\r\n",
      "9,NA,5,40,5\r\n"
     ]
    }
   ],
   "source": [
    "! head ./data/resultados.csv"
   ]
  },
  {
   "cell_type": "code",
   "execution_count": 63,
   "id": "a3d796c0",
   "metadata": {},
   "outputs": [
    {
     "name": "stdout",
     "output_type": "stream",
     "text": [
      "+------------+-------+-------------+--------+---------+\n",
      "|resultado_id|medalla|deportista_id|juego_id|evento_id|\n",
      "+------------+-------+-------------+--------+---------+\n",
      "|           1|     NA|            1|      39|        1|\n",
      "|           2|     NA|            2|      49|        2|\n",
      "|           3|     NA|            3|       7|        3|\n",
      "|           4|   Gold|            4|       2|        4|\n",
      "|           5|     NA|            5|      36|        5|\n",
      "|           6|     NA|            5|      36|        6|\n",
      "|           7|     NA|            5|      38|        5|\n",
      "|           8|     NA|            5|      38|        6|\n",
      "|           9|     NA|            5|      40|        5|\n",
      "|          10|     NA|            5|      40|        6|\n",
      "|          11|     NA|            6|      38|        7|\n",
      "|          12|     NA|            6|      38|        8|\n",
      "|          13|     NA|            6|      38|        9|\n",
      "|          14|     NA|            6|      38|       10|\n",
      "|          15|     NA|            6|      40|        7|\n",
      "|          16|     NA|            6|      40|       11|\n",
      "|          17|     NA|            6|      40|        9|\n",
      "|          18|     NA|            6|      40|       10|\n",
      "|          19|     NA|            7|      38|        7|\n",
      "|          20|     NA|            7|      38|        8|\n",
      "+------------+-------+-------------+--------+---------+\n",
      "only showing top 20 rows\n",
      "\n"
     ]
    }
   ],
   "source": [
    "result_schema = StructType(\n",
    "    [\n",
    "        StructField('resultado_id', IntegerType(), False),\n",
    "        StructField('medalla', StringType(), False),\n",
    "        StructField('deportista_id', IntegerType(), False),\n",
    "        StructField('juego_id', IntegerType(), False),\n",
    "        StructField('evento_id', IntegerType(), False),\n",
    "    ]\n",
    ")\n",
    "\n",
    "resultDF = sqlContext.read.schema(result_schema).option('header', True).csv('./data/resultados.csv')\n",
    "resultDF.show()"
   ]
  },
  {
   "cell_type": "code",
   "execution_count": 64,
   "id": "7e519f3d",
   "metadata": {},
   "outputs": [
    {
     "data": {
      "text/plain": [
       "[Row(deporte_id=1, deporte='Basketball'),\n",
       " Row(deporte_id=2, deporte='Judo'),\n",
       " Row(deporte_id=3, deporte='Football')]"
      ]
     },
     "execution_count": 64,
     "metadata": {},
     "output_type": "execute_result"
    }
   ],
   "source": [
    "sportDF.take(3)"
   ]
  },
  {
   "cell_type": "code",
   "execution_count": 68,
   "id": "9fbcc825",
   "metadata": {},
   "outputs": [
    {
     "name": "stdout",
     "output_type": "stream",
     "text": [
      "22/09/15 15:42:40 WARN CSVHeaderChecker: CSV header does not conform to the schema.\n",
      " Header: evento_id, evento, deporte_id\n",
      " Schema: evento_id, nombre, deporte_id\n",
      "Expected: nombre but found: evento\n",
      "CSV file: file:///workspace/data/evento.csv\n"
     ]
    },
    {
     "data": {
      "text/plain": [
       "[Row(evento_id=1, nombre=\"Basketball Men's Basketball\", deporte_id=1),\n",
       " Row(evento_id=2, nombre=\"Judo Men's Extra-Lightweight\", deporte_id=2),\n",
       " Row(evento_id=3, nombre=\"Football Men's Football\", deporte_id=3)]"
      ]
     },
     "execution_count": 68,
     "metadata": {},
     "output_type": "execute_result"
    }
   ],
   "source": [
    "eventDF.take(3)"
   ]
  },
  {
   "cell_type": "code",
   "execution_count": 65,
   "id": "2d3db983",
   "metadata": {},
   "outputs": [
    {
     "data": {
      "text/plain": [
       "[Row(id=1, equipo='30. Februar', sigla='AUT'),\n",
       " Row(id=2, equipo='A North American Team', sigla='MEX'),\n",
       " Row(id=3, equipo='Acipactli', sigla='MEX')]"
      ]
     },
     "execution_count": 65,
     "metadata": {},
     "output_type": "execute_result"
    }
   ],
   "source": [
    "countriesDF.take(3)"
   ]
  },
  {
   "cell_type": "code",
   "execution_count": 69,
   "id": "122889d3",
   "metadata": {},
   "outputs": [
    {
     "name": "stdout",
     "output_type": "stream",
     "text": [
      "22/09/15 15:44:46 WARN CSVHeaderChecker: Number of column in CSV header is not equal to number of fields in the schema:\n",
      " Header length: 5, schema size: 4\n",
      "CSV file: file:///workspace/data/juegos.csv\n"
     ]
    },
    {
     "data": {
      "text/plain": [
       "[Row(juego_id=1, anio='1896 Verano', temporada='1896', ciudad='Verano'),\n",
       " Row(juego_id=2, anio='1900 Verano', temporada='1900', ciudad='Verano'),\n",
       " Row(juego_id=3, anio='1904 Verano', temporada='1904', ciudad='Verano')]"
      ]
     },
     "execution_count": 69,
     "metadata": {},
     "output_type": "execute_result"
    }
   ],
   "source": [
    "juegosDF.take(3)"
   ]
  },
  {
   "cell_type": "code",
   "execution_count": 70,
   "id": "97285393",
   "metadata": {},
   "outputs": [
    {
     "data": {
      "text/plain": [
       "[Row(deportista_id=1, nombre='A Dijiang', genero=1, edad=24, altura=180, peso=80.0, equipo_id=199),\n",
       " Row(deportista_id=2, nombre='A Lamusi', genero=1, edad=23, altura=170, peso=60.0, equipo_id=199),\n",
       " Row(deportista_id=3, nombre='Gunnar Nielsen Aaby', genero=1, edad=24, altura=0, peso=0.0, equipo_id=273)]"
      ]
     },
     "execution_count": 70,
     "metadata": {},
     "output_type": "execute_result"
    }
   ],
   "source": [
    "playerDF.take(3)"
   ]
  },
  {
   "cell_type": "code",
   "execution_count": 71,
   "id": "d251eb0d",
   "metadata": {},
   "outputs": [
    {
     "data": {
      "text/plain": [
       "[Row(resultado_id=1, medalla='NA', deportista_id=1, juego_id=39, evento_id=1),\n",
       " Row(resultado_id=2, medalla='NA', deportista_id=2, juego_id=49, evento_id=2),\n",
       " Row(resultado_id=3, medalla='NA', deportista_id=3, juego_id=7, evento_id=3)]"
      ]
     },
     "execution_count": 71,
     "metadata": {},
     "output_type": "execute_result"
    }
   ],
   "source": [
    "resultDF.take(3)"
   ]
  },
  {
   "cell_type": "code",
   "execution_count": 72,
   "id": "4007183c",
   "metadata": {},
   "outputs": [
    {
     "name": "stdout",
     "output_type": "stream",
     "text": [
      "root\n",
      " |-- deportista_id: integer (nullable = false)\n",
      " |-- nombre: string (nullable = false)\n",
      " |-- genero: integer (nullable = false)\n",
      " |-- edad: integer (nullable = false)\n",
      " |-- altura: integer (nullable = false)\n",
      " |-- peso: float (nullable = false)\n",
      " |-- equipo_id: integer (nullable = false)\n",
      "\n"
     ]
    }
   ],
   "source": [
    "playerDF.printSchema()"
   ]
  },
  {
   "cell_type": "markdown",
   "id": "32ced193",
   "metadata": {},
   "source": [
    "### Renombrar y eliminar columnas en un DF"
   ]
  },
  {
   "cell_type": "markdown",
   "id": "e09e4e52",
   "metadata": {},
   "source": [
    "#### Way 1"
   ]
  },
  {
   "cell_type": "code",
   "execution_count": 73,
   "id": "630ce8a7",
   "metadata": {},
   "outputs": [
    {
     "name": "stdout",
     "output_type": "stream",
     "text": [
      "root\n",
      " |-- deportista_id: integer (nullable = false)\n",
      " |-- nombre: string (nullable = false)\n",
      " |-- sexo: integer (nullable = false)\n",
      " |-- edad: integer (nullable = false)\n",
      " |-- peso: float (nullable = false)\n",
      " |-- equipo_id: integer (nullable = false)\n",
      "\n"
     ]
    }
   ],
   "source": [
    "playerDF.withColumnRenamed(\"genero\", \"sexo\").drop('altura').printSchema()"
   ]
  },
  {
   "cell_type": "markdown",
   "id": "93c2abc1",
   "metadata": {},
   "source": [
    "#### Way 2"
   ]
  },
  {
   "cell_type": "code",
   "execution_count": 74,
   "id": "7e455407",
   "metadata": {},
   "outputs": [
    {
     "name": "stdout",
     "output_type": "stream",
     "text": [
      "+-------------+--------------------+-------------+---------+\n",
      "|deportista_id|              nombre|edad_al_jugar|equipo_id|\n",
      "+-------------+--------------------+-------------+---------+\n",
      "|            1|           A Dijiang|           24|      199|\n",
      "|            2|            A Lamusi|           23|      199|\n",
      "|            3| Gunnar Nielsen Aaby|           24|      273|\n",
      "|            4|Edgar Lindenau Aabye|           34|      278|\n",
      "|            5|Christine Jacoba ...|           21|      705|\n",
      "|            6|     Per Knut Aaland|           31|     1096|\n",
      "|            7|        John Aalberg|           31|     1096|\n",
      "|            8|Cornelia Cor Aalt...|           18|      705|\n",
      "|            9|    Antti Sami Aalto|           26|      350|\n",
      "|           10|Einar Ferdinand E...|           26|      350|\n",
      "|           11|  Jorma Ilmari Aalto|           22|      350|\n",
      "|           12|   Jyri Tapani Aalto|           31|      350|\n",
      "|           13|  Minna Maarit Aalto|           30|      350|\n",
      "|           14|Pirjo Hannele Aal...|           32|      350|\n",
      "|           15|Arvo Ossian Aaltonen|           22|      350|\n",
      "|           16|Juhamatti Tapio A...|           28|      350|\n",
      "|           17|Paavo Johannes Aa...|           28|      350|\n",
      "|           18|Timo Antero Aaltonen|           31|      350|\n",
      "|           19|Win Valdemar Aalt...|           54|      350|\n",
      "|           20|  Kjetil Andr Aamodt|           20|      742|\n",
      "+-------------+--------------------+-------------+---------+\n",
      "only showing top 20 rows\n",
      "\n"
     ]
    }
   ],
   "source": [
    "from pyspark.sql.functions import col\n",
    "\n",
    "playerDFf = playerDF.select(\n",
    "    \"deportista_id\",\n",
    "    \"nombre\",\n",
    "    col(\"edad\").alias(\"edad_al_jugar\"),\n",
    "    \"equipo_id\"\n",
    "    )\n",
    "playerDFf.show()"
   ]
  },
  {
   "cell_type": "code",
   "execution_count": 76,
   "id": "f7188b6e",
   "metadata": {},
   "outputs": [
    {
     "name": "stderr",
     "output_type": "stream",
     "text": [
      "[Stage 17:=============================>                            (2 + 2) / 4]\r"
     ]
    },
    {
     "name": "stdout",
     "output_type": "stream",
     "text": [
      "+-------------+--------------------+-------------+---------+\n",
      "|deportista_id|              nombre|edad_al_jugar|equipo_id|\n",
      "+-------------+--------------------+-------------+---------+\n",
      "|          224|     Mohamed AbdelEl|            0|      308|\n",
      "|          487|      Inni Aboubacar|            0|      721|\n",
      "|          226|Sanad Bushara Abd...|            0|     1003|\n",
      "|           58|    Georgi Abadzhiev|            0|      154|\n",
      "|          230|    Moustafa Abdelal|            0|      308|\n",
      "|          102|   Sayed Fahmy Abaza|            0|      308|\n",
      "|          260|  Ahmed Abdo Mustafa|            0|     1003|\n",
      "|          139|George Ioannis Abbot|            0|     1043|\n",
      "|          281|      S. Abdul Hamid|            0|      487|\n",
      "|          163|     Ismail Abdallah|            0|     1095|\n",
      "|          285|Talal Hassoun Abd...|            0|      497|\n",
      "|          173| Mohamed Abdel Fatah|            0|     1003|\n",
      "|          179|Ibrahim Saad Abde...|            0|     1003|\n",
      "|          378|     Angelik Abebame|            0|        0|\n",
      "|          294|Mohamed Ghulom Ab...|            0|       81|\n",
      "|          186| Mohamed Abdel Hafiz|            0|     1095|\n",
      "|          300|     A. Abdul Razzak|            0|      497|\n",
      "|          190| Ibrahim Abdel Hamid|            0|      308|\n",
      "|          301|Mohamed Abdul Razzak|            0|      497|\n",
      "|          209|Ibrahim Abdel Rahman|            0|     1095|\n",
      "+-------------+--------------------+-------------+---------+\n",
      "only showing top 20 rows\n",
      "\n"
     ]
    },
    {
     "name": "stderr",
     "output_type": "stream",
     "text": [
      "\r",
      "                                                                                \r"
     ]
    }
   ],
   "source": [
    "playerDFf.sort('edad_al_jugar').show()"
   ]
  },
  {
   "cell_type": "markdown",
   "id": "d1d6255b",
   "metadata": {},
   "source": [
    "### Aplicar filtros al DF"
   ]
  },
  {
   "cell_type": "code",
   "execution_count": 78,
   "id": "42e1610b",
   "metadata": {},
   "outputs": [
    {
     "name": "stdout",
     "output_type": "stream",
     "text": [
      "+-------------+--------------------+-------------+---------+\n",
      "|deportista_id|              nombre|edad_al_jugar|equipo_id|\n",
      "+-------------+--------------------+-------------+---------+\n",
      "|            1|           A Dijiang|           24|      199|\n",
      "|            2|            A Lamusi|           23|      199|\n",
      "|            3| Gunnar Nielsen Aaby|           24|      273|\n",
      "|            4|Edgar Lindenau Aabye|           34|      278|\n",
      "|            5|Christine Jacoba ...|           21|      705|\n",
      "|            6|     Per Knut Aaland|           31|     1096|\n",
      "|            7|        John Aalberg|           31|     1096|\n",
      "|            8|Cornelia Cor Aalt...|           18|      705|\n",
      "|            9|    Antti Sami Aalto|           26|      350|\n",
      "|           10|Einar Ferdinand E...|           26|      350|\n",
      "|           11|  Jorma Ilmari Aalto|           22|      350|\n",
      "|           12|   Jyri Tapani Aalto|           31|      350|\n",
      "|           13|  Minna Maarit Aalto|           30|      350|\n",
      "|           14|Pirjo Hannele Aal...|           32|      350|\n",
      "|           15|Arvo Ossian Aaltonen|           22|      350|\n",
      "|           16|Juhamatti Tapio A...|           28|      350|\n",
      "|           17|Paavo Johannes Aa...|           28|      350|\n",
      "|           18|Timo Antero Aaltonen|           31|      350|\n",
      "|           19|Win Valdemar Aalt...|           54|      350|\n",
      "|           20|  Kjetil Andr Aamodt|           20|      742|\n",
      "+-------------+--------------------+-------------+---------+\n",
      "only showing top 20 rows\n",
      "\n"
     ]
    }
   ],
   "source": [
    "playerDFf.filter(\n",
    "    (playerDFf.edad_al_jugar !=0)\n",
    ").show()"
   ]
  },
  {
   "cell_type": "code",
   "execution_count": 79,
   "id": "29f1654d",
   "metadata": {},
   "outputs": [
    {
     "name": "stderr",
     "output_type": "stream",
     "text": [
      "                                                                                \r"
     ]
    },
    {
     "name": "stdout",
     "output_type": "stream",
     "text": [
      "+-------------+--------------------+-------------+---------+\n",
      "|deportista_id|              nombre|edad_al_jugar|equipo_id|\n",
      "+-------------+--------------------+-------------+---------+\n",
      "|        71691|  Dimitrios Loundras|           10|      333|\n",
      "|        40129|    Luigina Giavotti|           11|      507|\n",
      "|        47618|Sonja Henie Toppi...|           11|      742|\n",
      "|        51268|      Beatrice Hutiu|           11|      861|\n",
      "|       118925|Megan Olwen Deven...|           11|      413|\n",
      "|        22411|Magdalena Cecilia...|           11|      413|\n",
      "|       126307|        Liana Vicens|           11|      825|\n",
      "|        70616|          Liu Luyang|           11|      199|\n",
      "|        37333|Carlos Bienvenido...|           11|      982|\n",
      "|        76675|   Marcelle Matthews|           11|      967|\n",
      "|        52070|        Etsuko Inada|           11|      514|\n",
      "|        74755|Luciana Marcellin...|           12|      507|\n",
      "|       118832|  Chin Say Molly Tay|           12|      619|\n",
      "|        72854|      Licia Macchini|           12|      507|\n",
      "|        99362|Antonia Real Horrach|           12|      982|\n",
      "|       125944|        Ines Vercesi|           12|      507|\n",
      "|         5291|Marcia Arriaga La...|           12|      656|\n",
      "|       125092|tienne Nol Henri ...|           12|      362|\n",
      "|        96664|Dorothy PoyntonHi...|           12|     1096|\n",
      "|       127018|Yelena Germanovna...|           12|      978|\n",
      "+-------------+--------------------+-------------+---------+\n",
      "only showing top 20 rows\n",
      "\n"
     ]
    }
   ],
   "source": [
    "playerDFf.filter(\n",
    "    (playerDFf.edad_al_jugar !=0)\n",
    ").sort('edad_al_jugar').show()"
   ]
  },
  {
   "cell_type": "code",
   "execution_count": 80,
   "id": "9e2b4b45",
   "metadata": {},
   "outputs": [
    {
     "name": "stdout",
     "output_type": "stream",
     "text": [
      "root\n",
      " |-- deportista_id: integer (nullable = false)\n",
      " |-- nombre: string (nullable = false)\n",
      " |-- genero: integer (nullable = false)\n",
      " |-- edad: integer (nullable = false)\n",
      " |-- altura: integer (nullable = false)\n",
      " |-- peso: float (nullable = false)\n",
      " |-- equipo_id: integer (nullable = false)\n",
      "\n"
     ]
    }
   ],
   "source": [
    "playerDF.printSchema()"
   ]
  },
  {
   "cell_type": "code",
   "execution_count": 81,
   "id": "e498a84d",
   "metadata": {},
   "outputs": [
    {
     "name": "stdout",
     "output_type": "stream",
     "text": [
      "root\n",
      " |-- resultado_id: integer (nullable = true)\n",
      " |-- medalla: string (nullable = true)\n",
      " |-- deportista_id: integer (nullable = true)\n",
      " |-- juego_id: integer (nullable = true)\n",
      " |-- evento_id: integer (nullable = true)\n",
      "\n"
     ]
    }
   ],
   "source": [
    "resultDF.printSchema()"
   ]
  },
  {
   "cell_type": "code",
   "execution_count": 82,
   "id": "b6dbf4a8",
   "metadata": {},
   "outputs": [
    {
     "name": "stdout",
     "output_type": "stream",
     "text": [
      "root\n",
      " |-- juego_id: integer (nullable = true)\n",
      " |-- anio: string (nullable = true)\n",
      " |-- temporada: string (nullable = true)\n",
      " |-- ciudad: string (nullable = true)\n",
      "\n"
     ]
    }
   ],
   "source": [
    "juegosDF.printSchema()"
   ]
  },
  {
   "cell_type": "markdown",
   "id": "c88a7388",
   "metadata": {},
   "source": [
    "### Agrupaciones y join sobre DF"
   ]
  },
  {
   "cell_type": "code",
   "execution_count": 83,
   "id": "e0534394",
   "metadata": {},
   "outputs": [
    {
     "name": "stderr",
     "output_type": "stream",
     "text": [
      "                                                                                \r"
     ]
    },
    {
     "name": "stdout",
     "output_type": "stream",
     "text": [
      "+-------------+--------------------+------+----+------+----+---------+------------+-------+-------------+--------+---------+\n",
      "|deportista_id|              nombre|genero|edad|altura|peso|equipo_id|resultado_id|medalla|deportista_id|juego_id|evento_id|\n",
      "+-------------+--------------------+------+----+------+----+---------+------------+-------+-------------+--------+---------+\n",
      "|            1|           A Dijiang|     1|  24|   180|80.0|      199|           1|     NA|            1|      39|        1|\n",
      "|            2|            A Lamusi|     1|  23|   170|60.0|      199|           2|     NA|            2|      49|        2|\n",
      "|            3| Gunnar Nielsen Aaby|     1|  24|     0| 0.0|      273|           3|     NA|            3|       7|        3|\n",
      "|            4|Edgar Lindenau Aabye|     1|  34|     0| 0.0|      278|           4|   Gold|            4|       2|        4|\n",
      "|            5|Christine Jacoba ...|     2|  21|   185|82.0|      705|          10|     NA|            5|      40|        6|\n",
      "|            5|Christine Jacoba ...|     2|  21|   185|82.0|      705|           9|     NA|            5|      40|        5|\n",
      "|            5|Christine Jacoba ...|     2|  21|   185|82.0|      705|           8|     NA|            5|      38|        6|\n",
      "|            5|Christine Jacoba ...|     2|  21|   185|82.0|      705|           7|     NA|            5|      38|        5|\n",
      "|            5|Christine Jacoba ...|     2|  21|   185|82.0|      705|           6|     NA|            5|      36|        6|\n",
      "|            5|Christine Jacoba ...|     2|  21|   185|82.0|      705|           5|     NA|            5|      36|        5|\n",
      "|            6|     Per Knut Aaland|     1|  31|   188|75.0|     1096|          18|     NA|            6|      40|       10|\n",
      "|            6|     Per Knut Aaland|     1|  31|   188|75.0|     1096|          17|     NA|            6|      40|        9|\n",
      "|            6|     Per Knut Aaland|     1|  31|   188|75.0|     1096|          16|     NA|            6|      40|       11|\n",
      "|            6|     Per Knut Aaland|     1|  31|   188|75.0|     1096|          15|     NA|            6|      40|        7|\n",
      "|            6|     Per Knut Aaland|     1|  31|   188|75.0|     1096|          14|     NA|            6|      38|       10|\n",
      "|            6|     Per Knut Aaland|     1|  31|   188|75.0|     1096|          13|     NA|            6|      38|        9|\n",
      "|            6|     Per Knut Aaland|     1|  31|   188|75.0|     1096|          12|     NA|            6|      38|        8|\n",
      "|            6|     Per Knut Aaland|     1|  31|   188|75.0|     1096|          11|     NA|            6|      38|        7|\n",
      "|            7|        John Aalberg|     1|  31|   183|72.0|     1096|          26|     NA|            7|      40|       10|\n",
      "|            7|        John Aalberg|     1|  31|   183|72.0|     1096|          25|     NA|            7|      40|        9|\n",
      "+-------------+--------------------+------+----+------+----+---------+------------+-------+-------------+--------+---------+\n",
      "only showing top 20 rows\n",
      "\n"
     ]
    }
   ],
   "source": [
    "playerDF.join(\n",
    "    resultDF,\n",
    "    playerDF.deportista_id == resultDF.deportista_id,\n",
    "    \"left\"\n",
    ").show(5)"
   ]
  },
  {
   "cell_type": "code",
   "execution_count": 84,
   "id": "3c62aa5d",
   "metadata": {},
   "outputs": [
    {
     "name": "stdout",
     "output_type": "stream",
     "text": [
      "22/09/15 16:34:53 WARN CSVHeaderChecker: Number of column in CSV header is not equal to number of fields in the schema:\n",
      " Header length: 5, schema size: 4\n",
      "CSV file: file:///workspace/data/juegos.csv\n"
     ]
    },
    {
     "name": "stderr",
     "output_type": "stream",
     "text": [
      "\r",
      "[Stage 22:=============================>                            (1 + 1) / 2]\r",
      "\r",
      "                                                                                \r"
     ]
    },
    {
     "name": "stdout",
     "output_type": "stream",
     "text": [
      "+-------------+--------------------+------+----+------+----+---------+------------+-------+-------------+--------+---------+--------+-------------+---------+--------+\n",
      "|deportista_id|              nombre|genero|edad|altura|peso|equipo_id|resultado_id|medalla|deportista_id|juego_id|evento_id|juego_id|         anio|temporada|  ciudad|\n",
      "+-------------+--------------------+------+----+------+----+---------+------------+-------+-------------+--------+---------+--------+-------------+---------+--------+\n",
      "|            1|           A Dijiang|     1|  24|   180|80.0|      199|           1|     NA|            1|      39|        1|      39|  1992 Verano|     1992|  Verano|\n",
      "|            2|            A Lamusi|     1|  23|   170|60.0|      199|           2|     NA|            2|      49|        2|      49|  2012 Verano|     2012|  Verano|\n",
      "|            3| Gunnar Nielsen Aaby|     1|  24|     0| 0.0|      273|           3|     NA|            3|       7|        3|       7|  1920 Verano|     1920|  Verano|\n",
      "|            4|Edgar Lindenau Aabye|     1|  34|     0| 0.0|      278|           4|   Gold|            4|       2|        4|       2|  1900 Verano|     1900|  Verano|\n",
      "|            5|Christine Jacoba ...|     2|  21|   185|82.0|      705|          10|     NA|            5|      40|        6|      40|1994 Invierno|     1994|Invierno|\n",
      "|            5|Christine Jacoba ...|     2|  21|   185|82.0|      705|           9|     NA|            5|      40|        5|      40|1994 Invierno|     1994|Invierno|\n",
      "|            5|Christine Jacoba ...|     2|  21|   185|82.0|      705|           8|     NA|            5|      38|        6|      38|1992 Invierno|     1992|Invierno|\n",
      "|            5|Christine Jacoba ...|     2|  21|   185|82.0|      705|           7|     NA|            5|      38|        5|      38|1992 Invierno|     1992|Invierno|\n",
      "|            5|Christine Jacoba ...|     2|  21|   185|82.0|      705|           6|     NA|            5|      36|        6|      36|1988 Invierno|     1988|Invierno|\n",
      "|            5|Christine Jacoba ...|     2|  21|   185|82.0|      705|           5|     NA|            5|      36|        5|      36|1988 Invierno|     1988|Invierno|\n",
      "|            6|     Per Knut Aaland|     1|  31|   188|75.0|     1096|          18|     NA|            6|      40|       10|      40|1994 Invierno|     1994|Invierno|\n",
      "|            6|     Per Knut Aaland|     1|  31|   188|75.0|     1096|          17|     NA|            6|      40|        9|      40|1994 Invierno|     1994|Invierno|\n",
      "|            6|     Per Knut Aaland|     1|  31|   188|75.0|     1096|          16|     NA|            6|      40|       11|      40|1994 Invierno|     1994|Invierno|\n",
      "|            6|     Per Knut Aaland|     1|  31|   188|75.0|     1096|          15|     NA|            6|      40|        7|      40|1994 Invierno|     1994|Invierno|\n",
      "|            6|     Per Knut Aaland|     1|  31|   188|75.0|     1096|          14|     NA|            6|      38|       10|      38|1992 Invierno|     1992|Invierno|\n",
      "|            6|     Per Knut Aaland|     1|  31|   188|75.0|     1096|          13|     NA|            6|      38|        9|      38|1992 Invierno|     1992|Invierno|\n",
      "|            6|     Per Knut Aaland|     1|  31|   188|75.0|     1096|          12|     NA|            6|      38|        8|      38|1992 Invierno|     1992|Invierno|\n",
      "|            6|     Per Knut Aaland|     1|  31|   188|75.0|     1096|          11|     NA|            6|      38|        7|      38|1992 Invierno|     1992|Invierno|\n",
      "|            7|        John Aalberg|     1|  31|   183|72.0|     1096|          26|     NA|            7|      40|       10|      40|1994 Invierno|     1994|Invierno|\n",
      "|            7|        John Aalberg|     1|  31|   183|72.0|     1096|          25|     NA|            7|      40|        9|      40|1994 Invierno|     1994|Invierno|\n",
      "+-------------+--------------------+------+----+------+----+---------+------------+-------+-------------+--------+---------+--------+-------------+---------+--------+\n",
      "only showing top 20 rows\n",
      "\n"
     ]
    }
   ],
   "source": [
    "playerDF.join(\n",
    "    resultDF,\n",
    "    playerDF.deportista_id == resultDF.deportista_id,\n",
    "    \"left\"\n",
    "    ).join(\n",
    "        juegosDF,\n",
    "        juegosDF.juego_id == resultDF.juego_id,\n",
    "        \"left\"\n",
    "        ).show(5)"
   ]
  },
  {
   "cell_type": "code",
   "execution_count": 87,
   "id": "3db18d9e",
   "metadata": {},
   "outputs": [
    {
     "name": "stdout",
     "output_type": "stream",
     "text": [
      "22/09/15 16:37:24 WARN CSVHeaderChecker: Number of column in CSV header is not equal to number of fields in the schema:\n",
      " Header length: 5, schema size: 4\n",
      "CSV file: file:///workspace/data/juegos.csv\n",
      "22/09/15 16:37:24 WARN CSVHeaderChecker: CSV header does not conform to the schema.\n",
      " Header: evento_id, evento, deporte_id\n",
      " Schema: evento_id, nombre, deporte_id\n",
      "Expected: nombre but found: evento\n",
      "CSV file: file:///workspace/data/evento.csv\n",
      "+-------------+--------------------+------+----+------+----+---------+------------+-------+-------------+--------+---------+--------+-------------+---------+--------+---------+--------------------+----------+\n",
      "|deportista_id|              nombre|genero|edad|altura|peso|equipo_id|resultado_id|medalla|deportista_id|juego_id|evento_id|juego_id|         anio|temporada|  ciudad|evento_id|              nombre|deporte_id|\n",
      "+-------------+--------------------+------+----+------+----+---------+------------+-------+-------------+--------+---------+--------+-------------+---------+--------+---------+--------------------+----------+\n",
      "|            1|           A Dijiang|     1|  24|   180|80.0|      199|           1|     NA|            1|      39|        1|      39|  1992 Verano|     1992|  Verano|        1|Basketball Men's ...|         1|\n",
      "|            2|            A Lamusi|     1|  23|   170|60.0|      199|           2|     NA|            2|      49|        2|      49|  2012 Verano|     2012|  Verano|        2|Judo Men's Extra-...|         2|\n",
      "|            3| Gunnar Nielsen Aaby|     1|  24|     0| 0.0|      273|           3|     NA|            3|       7|        3|       7|  1920 Verano|     1920|  Verano|        3|Football Men's Fo...|         3|\n",
      "|            4|Edgar Lindenau Aabye|     1|  34|     0| 0.0|      278|           4|   Gold|            4|       2|        4|       2|  1900 Verano|     1900|  Verano|        4|Tug-Of-War Men's ...|         4|\n",
      "|            5|Christine Jacoba ...|     2|  21|   185|82.0|      705|          10|     NA|            5|      40|        6|      40|1994 Invierno|     1994|Invierno|        6|Speed Skating Wom...|         5|\n",
      "+-------------+--------------------+------+----+------+----+---------+------------+-------+-------------+--------+---------+--------+-------------+---------+--------+---------+--------------------+----------+\n",
      "only showing top 5 rows\n",
      "\n"
     ]
    }
   ],
   "source": [
    "playerDF.join(\n",
    "    resultDF,\n",
    "    playerDF.deportista_id == resultDF.deportista_id,\n",
    "    \"left\"\n",
    "    ).join(\n",
    "        juegosDF,\n",
    "        juegosDF.juego_id == resultDF.juego_id,\n",
    "        \"left\"\n",
    "        ).join(\n",
    "            eventDF,\n",
    "            eventDF.evento_id == resultDF.evento_id,\n",
    "            \"left\"\n",
    "            ).show(5)"
   ]
  },
  {
   "cell_type": "code",
   "execution_count": 89,
   "id": "58aad2f1",
   "metadata": {},
   "outputs": [
    {
     "name": "stdout",
     "output_type": "stream",
     "text": [
      "22/09/15 16:40:54 WARN CSVHeaderChecker: CSV header does not conform to the schema.\n",
      " Header: , nombre_juego\n",
      " Schema: juego_id, anio\n",
      "Expected: juego_id but found: \n",
      "CSV file: file:///workspace/data/juegos.csv\n",
      "22/09/15 16:40:54 WARN CSVHeaderChecker: CSV header does not conform to the schema.\n",
      " Header: evento_id, evento\n",
      " Schema: evento_id, nombre\n",
      "Expected: nombre but found: evento\n",
      "CSV file: file:///workspace/data/evento.csv\n",
      "+--------------------+-------------+-------+--------------+--------------------+\n",
      "|              nombre|edad_al_jugar|medalla|year_del_juego|   nombre_disciplina|\n",
      "+--------------------+-------------+-------+--------------+--------------------+\n",
      "|           A Dijiang|           24|     NA|   1992 Verano|Basketball Men's ...|\n",
      "|            A Lamusi|           23|     NA|   2012 Verano|Judo Men's Extra-...|\n",
      "| Gunnar Nielsen Aaby|           24|     NA|   1920 Verano|Football Men's Fo...|\n",
      "|Edgar Lindenau Aabye|           34|   Gold|   1900 Verano|Tug-Of-War Men's ...|\n",
      "|Christine Jacoba ...|           21|     NA| 1994 Invierno|Speed Skating Wom...|\n",
      "+--------------------+-------------+-------+--------------+--------------------+\n",
      "only showing top 5 rows\n",
      "\n"
     ]
    }
   ],
   "source": [
    "playerDF.join(\n",
    "    resultDF,\n",
    "    playerDF.deportista_id == resultDF.deportista_id,\n",
    "    \"left\"\n",
    "    ).join(\n",
    "        juegosDF,\n",
    "        juegosDF.juego_id == resultDF.juego_id,\n",
    "        \"left\"\n",
    "        ).join(\n",
    "            eventDF,\n",
    "            eventDF.evento_id == resultDF.evento_id,\n",
    "            \"left\"\n",
    "            ).select(\n",
    "                playerDF.nombre,\n",
    "                col(\"edad\").alias(\"edad_al_jugar\"),\n",
    "                \"medalla\",\n",
    "                col(\"anio\").alias('year_del_juego'),\n",
    "                eventDF.nombre.alias('nombre_disciplina')\n",
    "                ).show(5)"
   ]
  },
  {
   "cell_type": "markdown",
   "id": "27043e7e",
   "metadata": {},
   "source": [
    "### Reto"
   ]
  },
  {
   "cell_type": "code",
   "execution_count": 92,
   "id": "4035f7a5",
   "metadata": {},
   "outputs": [
    {
     "name": "stderr",
     "output_type": "stream",
     "text": [
      "                                                                                \r"
     ]
    },
    {
     "name": "stdout",
     "output_type": "stream",
     "text": [
      "+------------+-------+-------------+--------+---------+-------------+--------------------+------+----+------+----+---------+\n",
      "|resultado_id|medalla|deportista_id|juego_id|evento_id|deportista_id|              nombre|genero|edad|altura|peso|equipo_id|\n",
      "+------------+-------+-------------+--------+---------+-------------+--------------------+------+----+------+----+---------+\n",
      "|          41| Bronze|           16|      50|       14|           16|Juhamatti Tapio A...|     1|  28|   184|85.0|      350|\n",
      "|          38| Bronze|           15|       7|       19|           15|Arvo Ossian Aaltonen|     1|  22|     0| 0.0|      350|\n",
      "|          39| Bronze|           15|       7|       20|           15|Arvo Ossian Aaltonen|     1|  22|     0| 0.0|      350|\n",
      "|          42| Bronze|           17|      17|       21|           17|Paavo Johannes Aa...|     1|  28|   175|64.0|      350|\n",
      "|          43|   Gold|           17|      17|       22|           17|Paavo Johannes Aa...|     1|  28|   175|64.0|      350|\n",
      "+------------+-------+-------------+--------+---------+-------------+--------------------+------+----+------+----+---------+\n",
      "only showing top 5 rows\n",
      "\n"
     ]
    }
   ],
   "source": [
    "resultDF.filter(resultDF.medalla != 'NA').join(\n",
    "    playerDF,\n",
    "    playerDF.deportista_id == resultDF.deportista_id,\n",
    "    \"left\"\n",
    "    ).show(5)"
   ]
  },
  {
   "cell_type": "code",
   "execution_count": 95,
   "id": "2340bd1a",
   "metadata": {},
   "outputs": [
    {
     "name": "stdout",
     "output_type": "stream",
     "text": [
      "+------------+-------+-------------+--------+---------+-------------+--------------------+------+----+------+----+---------+---+--------------+-----+\n",
      "|resultado_id|medalla|deportista_id|juego_id|evento_id|deportista_id|              nombre|genero|edad|altura|peso|equipo_id| id|        equipo|sigla|\n",
      "+------------+-------+-------------+--------+---------+-------------+--------------------+------+----+------+----+---------+---+--------------+-----+\n",
      "|           4|   Gold|            4|       2|        4|            4|Edgar Lindenau Aabye|     1|  34|     0| 0.0|      278|278|Denmark/Sweden|  SWE|\n",
      "|          39| Bronze|           15|       7|       20|           15|Arvo Ossian Aaltonen|     1|  22|     0| 0.0|      350|350|       Finland|  FIN|\n",
      "|          38| Bronze|           15|       7|       19|           15|Arvo Ossian Aaltonen|     1|  22|     0| 0.0|      350|350|       Finland|  FIN|\n",
      "|          41| Bronze|           16|      50|       14|           16|Juhamatti Tapio A...|     1|  28|   184|85.0|      350|350|       Finland|  FIN|\n",
      "|          51| Bronze|           17|      19|       22|           17|Paavo Johannes Aa...|     1|  28|   175|64.0|      350|350|       Finland|  FIN|\n",
      "+------------+-------+-------------+--------+---------+-------------+--------------------+------+----+------+----+---------+---+--------------+-----+\n",
      "only showing top 5 rows\n",
      "\n"
     ]
    }
   ],
   "source": [
    "resultDF.filter(resultDF.medalla != 'NA').join(\n",
    "    playerDF,\n",
    "    playerDF.deportista_id == resultDF.deportista_id,\n",
    "    \"left\"\n",
    "    ).join(\n",
    "        countriesDF,\n",
    "        countriesDF.id == playerDF.equipo_id\n",
    "        ).show(5)"
   ]
  },
  {
   "cell_type": "code",
   "execution_count": 100,
   "id": "157cb1cf",
   "metadata": {},
   "outputs": [
    {
     "name": "stderr",
     "output_type": "stream",
     "text": [
      "                                                                                \r"
     ]
    },
    {
     "name": "stdout",
     "output_type": "stream",
     "text": [
      "+-------+--------+-----+\n",
      "|medalla|  equipo|sigla|\n",
      "+-------+--------+-----+\n",
      "|   Gold|Zimbabwe|  ZIM|\n",
      "| Bronze|Zimbabwe|  ZIM|\n",
      "|   Gold|Zimbabwe|  ZIM|\n",
      "|   Gold|Zimbabwe|  ZIM|\n",
      "|   Gold|Zimbabwe|  ZIM|\n",
      "| Silver|Zimbabwe|  ZIM|\n",
      "|   Gold|Zimbabwe|  ZIM|\n",
      "|   Gold|Zimbabwe|  ZIM|\n",
      "|   Gold|Zimbabwe|  ZIM|\n",
      "|   Gold|Zimbabwe|  ZIM|\n",
      "| Silver|Zimbabwe|  ZIM|\n",
      "|   Gold|Zimbabwe|  ZIM|\n",
      "|   Gold|Zimbabwe|  ZIM|\n",
      "| Silver|Zimbabwe|  ZIM|\n",
      "|   Gold|Zimbabwe|  ZIM|\n",
      "|   Gold|Zimbabwe|  ZIM|\n",
      "|   Gold|Zimbabwe|  ZIM|\n",
      "|   Gold|Zimbabwe|  ZIM|\n",
      "| Silver|Zimbabwe|  ZIM|\n",
      "|   Gold|Zimbabwe|  ZIM|\n",
      "+-------+--------+-----+\n",
      "only showing top 20 rows\n",
      "\n"
     ]
    }
   ],
   "source": [
    "resultDF.filter(resultDF.medalla != 'NA').join(\n",
    "    playerDF,\n",
    "    playerDF.deportista_id == resultDF.deportista_id,\n",
    "    \"left\"\n",
    "    ).join(\n",
    "        countriesDF,\n",
    "        countriesDF.id == playerDF.equipo_id\n",
    "        ).select(\n",
    "            \"medalla\",\n",
    "            \"equipo\",\n",
    "            \"sigla\"\n",
    "            ).sort(\n",
    "                col(\"sigla\").desc()\n",
    "                ).show()"
   ]
  },
  {
   "cell_type": "markdown",
   "id": "3e2186c4",
   "metadata": {},
   "source": [
    "### Funciones de agrupación"
   ]
  },
  {
   "cell_type": "code",
   "execution_count": 102,
   "id": "81aea8c8",
   "metadata": {},
   "outputs": [
    {
     "name": "stdout",
     "output_type": "stream",
     "text": [
      "+-------------+--------------------+------+----+------+----+---------+------------+-------+-------------+--------+---------+\n",
      "|deportista_id|              nombre|genero|edad|altura|peso|equipo_id|resultado_id|medalla|deportista_id|juego_id|evento_id|\n",
      "+-------------+--------------------+------+----+------+----+---------+------------+-------+-------------+--------+---------+\n",
      "|            1|           A Dijiang|     1|  24|   180|80.0|      199|           1|     NA|            1|      39|        1|\n",
      "|            2|            A Lamusi|     1|  23|   170|60.0|      199|           2|     NA|            2|      49|        2|\n",
      "|            3| Gunnar Nielsen Aaby|     1|  24|     0| 0.0|      273|           3|     NA|            3|       7|        3|\n",
      "|            4|Edgar Lindenau Aabye|     1|  34|     0| 0.0|      278|           4|   Gold|            4|       2|        4|\n",
      "|            5|Christine Jacoba ...|     2|  21|   185|82.0|      705|          10|     NA|            5|      40|        6|\n",
      "+-------------+--------------------+------+----+------+----+---------+------------+-------+-------------+--------+---------+\n",
      "only showing top 5 rows\n",
      "\n"
     ]
    }
   ],
   "source": [
    "playerDF.join(\n",
    "    resultDF,\n",
    "    resultDF.deportista_id == playerDF.deportista_id,\n",
    "    \"left\"\n",
    "    ).show(5)"
   ]
  },
  {
   "cell_type": "code",
   "execution_count": 104,
   "id": "ef65f448",
   "metadata": {},
   "outputs": [
    {
     "name": "stdout",
     "output_type": "stream",
     "text": [
      "22/09/15 16:54:50 WARN CSVHeaderChecker: Number of column in CSV header is not equal to number of fields in the schema:\n",
      " Header length: 5, schema size: 4\n",
      "CSV file: file:///workspace/data/juegos.csv\n"
     ]
    },
    {
     "name": "stderr",
     "output_type": "stream",
     "text": [
      "\r",
      "[Stage 65:=============================>                            (1 + 1) / 2]\r",
      "\r",
      "                                                                                \r"
     ]
    },
    {
     "name": "stdout",
     "output_type": "stream",
     "text": [
      "+-------------+--------------------+------+----+------+----+---------+------------+-------+-------------+--------+---------+--------+-------------+---------+--------+\n",
      "|deportista_id|              nombre|genero|edad|altura|peso|equipo_id|resultado_id|medalla|deportista_id|juego_id|evento_id|juego_id|         anio|temporada|  ciudad|\n",
      "+-------------+--------------------+------+----+------+----+---------+------------+-------+-------------+--------+---------+--------+-------------+---------+--------+\n",
      "|            1|           A Dijiang|     1|  24|   180|80.0|      199|           1|     NA|            1|      39|        1|      39|  1992 Verano|     1992|  Verano|\n",
      "|            2|            A Lamusi|     1|  23|   170|60.0|      199|           2|     NA|            2|      49|        2|      49|  2012 Verano|     2012|  Verano|\n",
      "|            3| Gunnar Nielsen Aaby|     1|  24|     0| 0.0|      273|           3|     NA|            3|       7|        3|       7|  1920 Verano|     1920|  Verano|\n",
      "|            4|Edgar Lindenau Aabye|     1|  34|     0| 0.0|      278|           4|   Gold|            4|       2|        4|       2|  1900 Verano|     1900|  Verano|\n",
      "|            5|Christine Jacoba ...|     2|  21|   185|82.0|      705|          10|     NA|            5|      40|        6|      40|1994 Invierno|     1994|Invierno|\n",
      "+-------------+--------------------+------+----+------+----+---------+------------+-------+-------------+--------+---------+--------+-------------+---------+--------+\n",
      "only showing top 5 rows\n",
      "\n"
     ]
    }
   ],
   "source": [
    "playerDF.join(\n",
    "    resultDF,\n",
    "    resultDF.deportista_id == playerDF.deportista_id,\n",
    "    \"left\"\n",
    "    ).join(\n",
    "        juegosDF,\n",
    "        juegosDF.juego_id == resultDF.juego_id,\n",
    "        \"left\"\n",
    "        ).show(5)"
   ]
  },
  {
   "cell_type": "code",
   "execution_count": 105,
   "id": "25ad7d7d",
   "metadata": {},
   "outputs": [
    {
     "name": "stderr",
     "output_type": "stream",
     "text": [
      "\r",
      "[Stage 68:>                                                         (0 + 2) / 2]\r",
      "\r",
      "                                                                                \r"
     ]
    },
    {
     "name": "stdout",
     "output_type": "stream",
     "text": [
      "22/09/15 16:56:28 WARN CSVHeaderChecker: Number of column in CSV header is not equal to number of fields in the schema:\n",
      " Header length: 5, schema size: 4\n",
      "CSV file: file:///workspace/data/juegos.csv\n",
      "+-------------+--------------------+------+----+------+----+---------+------------+-------+-------------+--------+---------+--------+-------------+---------+--------+---+--------------+-----+\n",
      "|deportista_id|              nombre|genero|edad|altura|peso|equipo_id|resultado_id|medalla|deportista_id|juego_id|evento_id|juego_id|         anio|temporada|  ciudad| id|        equipo|sigla|\n",
      "+-------------+--------------------+------+----+------+----+---------+------------+-------+-------------+--------+---------+--------+-------------+---------+--------+---+--------------+-----+\n",
      "|            1|           A Dijiang|     1|  24|   180|80.0|      199|           1|     NA|            1|      39|        1|      39|  1992 Verano|     1992|  Verano|199|         China|  CHN|\n",
      "|            2|            A Lamusi|     1|  23|   170|60.0|      199|           2|     NA|            2|      49|        2|      49|  2012 Verano|     2012|  Verano|199|         China|  CHN|\n",
      "|            3| Gunnar Nielsen Aaby|     1|  24|     0| 0.0|      273|           3|     NA|            3|       7|        3|       7|  1920 Verano|     1920|  Verano|273|       Denmark|  DEN|\n",
      "|            4|Edgar Lindenau Aabye|     1|  34|     0| 0.0|      278|           4|   Gold|            4|       2|        4|       2|  1900 Verano|     1900|  Verano|278|Denmark/Sweden|  SWE|\n",
      "|            5|Christine Jacoba ...|     2|  21|   185|82.0|      705|          10|     NA|            5|      40|        6|      40|1994 Invierno|     1994|Invierno|705|   Netherlands|  NED|\n",
      "+-------------+--------------------+------+----+------+----+---------+------------+-------+-------------+--------+---------+--------+-------------+---------+--------+---+--------------+-----+\n",
      "only showing top 5 rows\n",
      "\n"
     ]
    }
   ],
   "source": [
    "playerDF.join(\n",
    "    resultDF,\n",
    "    resultDF.deportista_id == playerDF.deportista_id,\n",
    "    \"left\"\n",
    "    ).join(\n",
    "        juegosDF,\n",
    "        juegosDF.juego_id == resultDF.juego_id,\n",
    "        \"left\"\n",
    "        ).join(\n",
    "            countriesDF,\n",
    "            playerDF.equipo_id == countriesDF.id,\n",
    "            \"left\"\n",
    "            ).show(5)"
   ]
  },
  {
   "cell_type": "code",
   "execution_count": 107,
   "id": "07bf2d2f",
   "metadata": {},
   "outputs": [
    {
     "name": "stdout",
     "output_type": "stream",
     "text": [
      "22/09/15 16:57:53 WARN CSVHeaderChecker: CSV header does not conform to the schema.\n",
      " Header: evento_id, evento, deporte_id\n",
      " Schema: evento_id, nombre, deporte_id\n",
      "Expected: nombre but found: evento\n",
      "CSV file: file:///workspace/data/evento.csv\n",
      "22/09/15 16:57:53 WARN CSVHeaderChecker: Number of column in CSV header is not equal to number of fields in the schema:\n",
      " Header length: 5, schema size: 4\n",
      "CSV file: file:///workspace/data/juegos.csv\n",
      "+-------------+--------------------+------+----+------+----+---------+------------+-------+-------------+--------+---------+--------+-------------+---------+--------+---+--------------+-----+---------+--------------------+----------+\n",
      "|deportista_id|              nombre|genero|edad|altura|peso|equipo_id|resultado_id|medalla|deportista_id|juego_id|evento_id|juego_id|         anio|temporada|  ciudad| id|        equipo|sigla|evento_id|              nombre|deporte_id|\n",
      "+-------------+--------------------+------+----+------+----+---------+------------+-------+-------------+--------+---------+--------+-------------+---------+--------+---+--------------+-----+---------+--------------------+----------+\n",
      "|            1|           A Dijiang|     1|  24|   180|80.0|      199|           1|     NA|            1|      39|        1|      39|  1992 Verano|     1992|  Verano|199|         China|  CHN|        1|Basketball Men's ...|         1|\n",
      "|            2|            A Lamusi|     1|  23|   170|60.0|      199|           2|     NA|            2|      49|        2|      49|  2012 Verano|     2012|  Verano|199|         China|  CHN|        2|Judo Men's Extra-...|         2|\n",
      "|            3| Gunnar Nielsen Aaby|     1|  24|     0| 0.0|      273|           3|     NA|            3|       7|        3|       7|  1920 Verano|     1920|  Verano|273|       Denmark|  DEN|        3|Football Men's Fo...|         3|\n",
      "|            4|Edgar Lindenau Aabye|     1|  34|     0| 0.0|      278|           4|   Gold|            4|       2|        4|       2|  1900 Verano|     1900|  Verano|278|Denmark/Sweden|  SWE|        4|Tug-Of-War Men's ...|         4|\n",
      "|            5|Christine Jacoba ...|     2|  21|   185|82.0|      705|          10|     NA|            5|      40|        6|      40|1994 Invierno|     1994|Invierno|705|   Netherlands|  NED|        6|Speed Skating Wom...|         5|\n",
      "+-------------+--------------------+------+----+------+----+---------+------------+-------+-------------+--------+---------+--------+-------------+---------+--------+---+--------------+-----+---------+--------------------+----------+\n",
      "only showing top 5 rows\n",
      "\n"
     ]
    }
   ],
   "source": [
    "playerDF.join(\n",
    "    resultDF,\n",
    "    resultDF.deportista_id == playerDF.deportista_id,\n",
    "    \"left\"\n",
    "    ).join(\n",
    "        juegosDF,\n",
    "        juegosDF.juego_id == resultDF.juego_id,\n",
    "        \"left\"\n",
    "        ).join(\n",
    "            countriesDF,\n",
    "            playerDF.equipo_id == countriesDF.id,\n",
    "            \"left\"\n",
    "            ).join(\n",
    "                eventDF,\n",
    "                eventDF.evento_id == resultDF.evento_id,\n",
    "                \"left\"\n",
    "                ).show(5)"
   ]
  },
  {
   "cell_type": "code",
   "execution_count": 109,
   "id": "aa3eba06",
   "metadata": {},
   "outputs": [
    {
     "name": "stdout",
     "output_type": "stream",
     "text": [
      "22/09/15 16:58:56 WARN CSVHeaderChecker: CSV header does not conform to the schema.\n",
      " Header: evento_id, evento, deporte_id\n",
      " Schema: evento_id, nombre, deporte_id\n",
      "Expected: nombre but found: evento\n",
      "CSV file: file:///workspace/data/evento.csv\n",
      "22/09/15 16:58:56 WARN CSVHeaderChecker: Number of column in CSV header is not equal to number of fields in the schema:\n",
      " Header length: 5, schema size: 4\n",
      "CSV file: file:///workspace/data/juegos.csv\n",
      "+-------------+--------------------+------+----+------+----+---------+------------+-------+-------------+--------+---------+--------+-------------+---------+--------+---+--------------+-----+---------+--------------------+----------+----------+-------------+\n",
      "|deportista_id|              nombre|genero|edad|altura|peso|equipo_id|resultado_id|medalla|deportista_id|juego_id|evento_id|juego_id|         anio|temporada|  ciudad| id|        equipo|sigla|evento_id|              nombre|deporte_id|deporte_id|      deporte|\n",
      "+-------------+--------------------+------+----+------+----+---------+------------+-------+-------------+--------+---------+--------+-------------+---------+--------+---+--------------+-----+---------+--------------------+----------+----------+-------------+\n",
      "|            1|           A Dijiang|     1|  24|   180|80.0|      199|           1|     NA|            1|      39|        1|      39|  1992 Verano|     1992|  Verano|199|         China|  CHN|        1|Basketball Men's ...|         1|         1|   Basketball|\n",
      "|            2|            A Lamusi|     1|  23|   170|60.0|      199|           2|     NA|            2|      49|        2|      49|  2012 Verano|     2012|  Verano|199|         China|  CHN|        2|Judo Men's Extra-...|         2|         2|         Judo|\n",
      "|            3| Gunnar Nielsen Aaby|     1|  24|     0| 0.0|      273|           3|     NA|            3|       7|        3|       7|  1920 Verano|     1920|  Verano|273|       Denmark|  DEN|        3|Football Men's Fo...|         3|         3|     Football|\n",
      "|            4|Edgar Lindenau Aabye|     1|  34|     0| 0.0|      278|           4|   Gold|            4|       2|        4|       2|  1900 Verano|     1900|  Verano|278|Denmark/Sweden|  SWE|        4|Tug-Of-War Men's ...|         4|         4|   Tug-Of-War|\n",
      "|            5|Christine Jacoba ...|     2|  21|   185|82.0|      705|          10|     NA|            5|      40|        6|      40|1994 Invierno|     1994|Invierno|705|   Netherlands|  NED|        6|Speed Skating Wom...|         5|         5|Speed Skating|\n",
      "+-------------+--------------------+------+----+------+----+---------+------------+-------+-------------+--------+---------+--------+-------------+---------+--------+---+--------------+-----+---------+--------------------+----------+----------+-------------+\n",
      "only showing top 5 rows\n",
      "\n"
     ]
    }
   ],
   "source": [
    "playerDF.join(\n",
    "    resultDF,\n",
    "    resultDF.deportista_id == playerDF.deportista_id,\n",
    "    \"left\"\n",
    "    ).join(\n",
    "        juegosDF,\n",
    "        juegosDF.juego_id == resultDF.juego_id,\n",
    "        \"left\"\n",
    "        ).join(\n",
    "            countriesDF,\n",
    "            playerDF.equipo_id == countriesDF.id,\n",
    "            \"left\"\n",
    "            ).join(\n",
    "                eventDF,\n",
    "                eventDF.evento_id == resultDF.evento_id,\n",
    "                \"left\"\n",
    "                ).join(\n",
    "                    sportDF,\n",
    "                    sportDF.deporte_id == eventDF.deporte_id,\n",
    "                    \"left\"\n",
    "                    ).show(5)"
   ]
  },
  {
   "cell_type": "code",
   "execution_count": 114,
   "id": "38c08a20",
   "metadata": {},
   "outputs": [
    {
     "name": "stdout",
     "output_type": "stream",
     "text": [
      "22/09/15 17:02:59 WARN CSVHeaderChecker: CSV header does not conform to the schema.\n",
      " Header: evento_id, evento, deporte_id\n",
      " Schema: evento_id, nombre, deporte_id\n",
      "Expected: nombre but found: evento\n",
      "CSV file: file:///workspace/data/evento.csv\n",
      "22/09/15 17:03:00 WARN CSVHeaderChecker: CSV header does not conform to the schema.\n",
      " Header: , nombre_juego\n",
      " Schema: juego_id, anio\n",
      "Expected: juego_id but found: \n",
      "CSV file: file:///workspace/data/juegos.csv\n",
      "+-----+-------------+-------+--------------------+-----------------+--------------------+\n",
      "|sigla|         year|medalla|nombre_subdisciplina|nombre_disciplina|              nombre|\n",
      "+-----+-------------+-------+--------------------+-----------------+--------------------+\n",
      "|  CHN|  1992 Verano|     NA|Basketball Men's ...|       Basketball|           A Dijiang|\n",
      "|  CHN|  2012 Verano|     NA|Judo Men's Extra-...|             Judo|            A Lamusi|\n",
      "|  DEN|  1920 Verano|     NA|Football Men's Fo...|         Football| Gunnar Nielsen Aaby|\n",
      "|  SWE|  1900 Verano|   Gold|Tug-Of-War Men's ...|       Tug-Of-War|Edgar Lindenau Aabye|\n",
      "|  NED|1994 Invierno|     NA|Speed Skating Wom...|    Speed Skating|Christine Jacoba ...|\n",
      "+-----+-------------+-------+--------------------+-----------------+--------------------+\n",
      "only showing top 5 rows\n",
      "\n"
     ]
    }
   ],
   "source": [
    "playerDF.join(\n",
    "    resultDF,\n",
    "    resultDF.deportista_id == playerDF.deportista_id,\n",
    "    \"left\"\n",
    "    ).join(\n",
    "        juegosDF,\n",
    "        juegosDF.juego_id == resultDF.juego_id,\n",
    "        \"left\"\n",
    "        ).join(\n",
    "            countriesDF,\n",
    "            playerDF.equipo_id == countriesDF.id,\n",
    "            \"left\"\n",
    "            ).join(\n",
    "                eventDF,\n",
    "                eventDF.evento_id == resultDF.evento_id,\n",
    "                \"left\"\n",
    "                ).join(\n",
    "                    sportDF,\n",
    "                    sportDF.deporte_id == eventDF.deporte_id,\n",
    "                    \"left\"\n",
    "                    ).select(\n",
    "                        \"sigla\",\n",
    "                        col(\"anio\").alias(\"year\"),\n",
    "                        \"medalla\",\n",
    "                        eventDF.nombre.alias(\"nombre_subdisciplina\"),\n",
    "                        sportDF.deporte.alias(\"nombre_disciplina\"),\n",
    "                        playerDF.nombre\n",
    "                        ).show(5)"
   ]
  },
  {
   "cell_type": "code",
   "execution_count": 110,
   "id": "2fc3acd7",
   "metadata": {},
   "outputs": [
    {
     "name": "stdout",
     "output_type": "stream",
     "text": [
      "root\n",
      " |-- evento_id: integer (nullable = true)\n",
      " |-- nombre: string (nullable = true)\n",
      " |-- deporte_id: integer (nullable = true)\n",
      "\n"
     ]
    }
   ],
   "source": [
    "eventDF.printSchema()"
   ]
  },
  {
   "cell_type": "code",
   "execution_count": 119,
   "id": "86918f2a",
   "metadata": {},
   "outputs": [
    {
     "name": "stdout",
     "output_type": "stream",
     "text": [
      "22/09/15 17:10:50 WARN CSVHeaderChecker: CSV header does not conform to the schema.\n",
      " Header: , nombre_juego\n",
      " Schema: juego_id, anio\n",
      "Expected: juego_id but found: \n",
      "CSV file: file:///workspace/data/juegos.csv\n",
      "22/09/15 17:10:50 WARN CSVHeaderChecker: CSV header does not conform to the schema.\n",
      " Header: evento_id, evento, deporte_id\n",
      " Schema: evento_id, nombre, deporte_id\n",
      "Expected: nombre but found: evento\n",
      "CSV file: file:///workspace/data/evento.csv\n",
      "+-----+-------------+-------+--------------------+--------------------+--------------------+\n",
      "|sigla|         year|medalla|nombre_subdisciplina|   nombre_disciplina|              nombre|\n",
      "+-----+-------------+-------+--------------------+--------------------+--------------------+\n",
      "|  CHN|  1992 Verano|     NA|Basketball Men's ...|          Basketball|           A Dijiang|\n",
      "|  CHN|  2012 Verano|     NA|Judo Men's Extra-...|                Judo|            A Lamusi|\n",
      "|  DEN|  1920 Verano|     NA|Football Men's Fo...|            Football| Gunnar Nielsen Aaby|\n",
      "|  SWE|  1900 Verano|   Gold|Tug-Of-War Men's ...|          Tug-Of-War|Edgar Lindenau Aabye|\n",
      "|  NED|1994 Invierno|     NA|Speed Skating Wom...|       Speed Skating|Christine Jacoba ...|\n",
      "|  NED|1994 Invierno|     NA|Speed Skating Wom...|       Speed Skating|Christine Jacoba ...|\n",
      "|  NED|1992 Invierno|     NA|Speed Skating Wom...|       Speed Skating|Christine Jacoba ...|\n",
      "|  NED|1992 Invierno|     NA|Speed Skating Wom...|       Speed Skating|Christine Jacoba ...|\n",
      "|  NED|1988 Invierno|     NA|Speed Skating Wom...|       Speed Skating|Christine Jacoba ...|\n",
      "|  NED|1988 Invierno|     NA|Speed Skating Wom...|       Speed Skating|Christine Jacoba ...|\n",
      "|  USA|1994 Invierno|     NA|Cross Country Ski...|Cross Country Skiing|     Per Knut Aaland|\n",
      "|  USA|1994 Invierno|     NA|Cross Country Ski...|Cross Country Skiing|     Per Knut Aaland|\n",
      "|  USA|1994 Invierno|     NA|Cross Country Ski...|Cross Country Skiing|     Per Knut Aaland|\n",
      "|  USA|1994 Invierno|     NA|Cross Country Ski...|Cross Country Skiing|     Per Knut Aaland|\n",
      "|  USA|1992 Invierno|     NA|Cross Country Ski...|Cross Country Skiing|     Per Knut Aaland|\n",
      "|  USA|1992 Invierno|     NA|Cross Country Ski...|Cross Country Skiing|     Per Knut Aaland|\n",
      "|  USA|1992 Invierno|     NA|Cross Country Ski...|Cross Country Skiing|     Per Knut Aaland|\n",
      "|  USA|1992 Invierno|     NA|Cross Country Ski...|Cross Country Skiing|     Per Knut Aaland|\n",
      "|  USA|1994 Invierno|     NA|Cross Country Ski...|Cross Country Skiing|        John Aalberg|\n",
      "|  USA|1994 Invierno|     NA|Cross Country Ski...|Cross Country Skiing|        John Aalberg|\n",
      "+-----+-------------+-------+--------------------+--------------------+--------------------+\n",
      "only showing top 20 rows\n",
      "\n"
     ]
    }
   ],
   "source": [
    "medals_per_year = playerDF.join(\n",
    "    resultDF,\n",
    "    playerDF.deportista_id == resultDF.deportista_id,\n",
    "    \"left\"\n",
    "    ).join(\n",
    "        juegosDF,\n",
    "        juegosDF.juego_id == resultDF.juego_id,\n",
    "        \"left\"\n",
    "        ).join(\n",
    "            countriesDF,\n",
    "            playerDF.equipo_id == countriesDF.id,\n",
    "            \"left\"\n",
    "            ).join(\n",
    "                eventDF,\n",
    "                eventDF.evento_id == resultDF.evento_id,\n",
    "                \"left\"\n",
    "                ).join(\n",
    "                    sportDF,\n",
    "                    eventDF.deporte_id == sportDF.deporte_id,\n",
    "                    \"left\"\n",
    "                    ).select(\n",
    "                        \"sigla\",\n",
    "                        col(\"anio\").alias(\"year\"),\n",
    "                        \"medalla\",\n",
    "                        eventDF.nombre.alias(\"nombre_subdisciplina\"),\n",
    "                        sportDF.deporte.alias(\"nombre_disciplina\"),\n",
    "                        playerDF.nombre\n",
    "                        )\n",
    "medals_per_year.show()"
   ]
  },
  {
   "cell_type": "code",
   "execution_count": 117,
   "id": "f2f87dfe",
   "metadata": {},
   "outputs": [
    {
     "name": "stdout",
     "output_type": "stream",
     "text": [
      "22/09/15 17:04:49 WARN CSVHeaderChecker: CSV header does not conform to the schema.\n",
      " Header: , nombre_juego\n",
      " Schema: juego_id, anio\n",
      "Expected: juego_id but found: \n",
      "CSV file: file:///workspace/data/juegos.csv\n",
      "22/09/15 17:04:49 WARN CSVHeaderChecker: CSV header does not conform to the schema.\n",
      " Header: evento_id, evento, deporte_id\n",
      " Schema: evento_id, nombre, deporte_id\n",
      "Expected: nombre but found: evento\n",
      "CSV file: file:///workspace/data/evento.csv\n",
      "+-----+-------------+-------+--------------------+-----------------+--------------------+\n",
      "|sigla|         year|medalla|nombre_subdisciplina|nombre_disciplina|              nombre|\n",
      "+-----+-------------+-------+--------------------+-----------------+--------------------+\n",
      "|  SWE|  1900 Verano|   Gold|Tug-Of-War Men's ...|       Tug-Of-War|Edgar Lindenau Aabye|\n",
      "|  FIN|  1920 Verano| Bronze|Swimming Men's 40...|         Swimming|Arvo Ossian Aaltonen|\n",
      "|  FIN|  1920 Verano| Bronze|Swimming Men's 20...|         Swimming|Arvo Ossian Aaltonen|\n",
      "|  FIN|2014 Invierno| Bronze|Ice Hockey Men's ...|       Ice Hockey|Juhamatti Tapio A...|\n",
      "|  FIN|  1952 Verano| Bronze|Gymnastics Men's ...|       Gymnastics|Paavo Johannes Aa...|\n",
      "+-----+-------------+-------+--------------------+-----------------+--------------------+\n",
      "only showing top 5 rows\n",
      "\n"
     ]
    }
   ],
   "source": [
    "medals_per_year.filter(medals_per_year.medalla != 'NA').show(5)"
   ]
  },
  {
   "cell_type": "markdown",
   "id": "02ca7506",
   "metadata": {},
   "source": [
    "### Agrupar por año"
   ]
  },
  {
   "cell_type": "code",
   "execution_count": 126,
   "id": "0ee8a2c1",
   "metadata": {},
   "outputs": [
    {
     "name": "stdout",
     "output_type": "stream",
     "text": [
      "22/09/15 17:15:10 WARN CSVHeaderChecker: CSV header does not conform to the schema.\n",
      " Header: , nombre_juego\n",
      " Schema: juego_id, anio\n",
      "Expected: juego_id but found: \n",
      "CSV file: file:///workspace/data/juegos.csv\n",
      "22/09/15 17:15:10 WARN CSVHeaderChecker: CSV header does not conform to the schema.\n",
      " Header: evento_id, evento, deporte_id\n",
      " Schema: evento_id, nombre, deporte_id\n",
      "Expected: nombre but found: evento\n",
      "CSV file: file:///workspace/data/evento.csv\n"
     ]
    },
    {
     "name": "stderr",
     "output_type": "stream",
     "text": [
      "\r",
      "[Stage 230:>                                                        (0 + 4) / 4]\r"
     ]
    },
    {
     "name": "stdout",
     "output_type": "stream",
     "text": [
      "+-----+-----------+--------------------+-----+\n",
      "|sigla|       year|nombre_subdisciplina|count|\n",
      "+-----+-----------+--------------------+-----+\n",
      "|  GRE|1896 Verano|Swimming Men's 1,...|    1|\n",
      "|  AUS|1896 Verano|Athletics Men's 8...|    1|\n",
      "|  GRE|1896 Verano|Shooting Men's Mi...|    1|\n",
      "|  USA|1896 Verano|Athletics Men's L...|    3|\n",
      "|  GBR|1896 Verano|Tennis Men's Doubles|    2|\n",
      "|  USA|1896 Verano|Athletics Men's 1...|    1|\n",
      "|  GER|1896 Verano|Gymnastics Men's ...|   10|\n",
      "|  GBR|1896 Verano|Weightlifting Men...|    1|\n",
      "|  USA|1896 Verano|Athletics Men's H...|    3|\n",
      "|  GBR|1896 Verano|Cycling Men's Roa...|    1|\n",
      "|  FRA|1896 Verano|Fencing Men's Foi...|    2|\n",
      "|  USA|1896 Verano|Athletics Men's 4...|    2|\n",
      "|  USA|1896 Verano|Athletics Men's 1...|    2|\n",
      "|  GRE|1896 Verano|Swimming Men's 10...|    3|\n",
      "|  GRE|1896 Verano|Gymnastics Men's ...|    2|\n",
      "|  GBR|1896 Verano|Tennis Men's Singles|    1|\n",
      "|  GER|1896 Verano|Gymnastics Men's ...|   10|\n",
      "|  USA|1896 Verano|Athletics Men's 1...|    1|\n",
      "|  GBR|1896 Verano|Weightlifting Men...|    1|\n",
      "|  HUN|1896 Verano|Athletics Men's 8...|    1|\n",
      "+-----+-----------+--------------------+-----+\n",
      "only showing top 20 rows\n",
      "\n"
     ]
    },
    {
     "name": "stderr",
     "output_type": "stream",
     "text": [
      "\r",
      "                                                                                \r"
     ]
    }
   ],
   "source": [
    "medals_x_year_gruped = medals_per_year.filter(\n",
    "    medals_per_year.medalla != 'NA'\n",
    "    ).groupBy(\n",
    "        'sigla',\n",
    "        'year',\n",
    "        'nombre_subdisciplina'\n",
    "        ).count().sort(\n",
    "                    'year'\n",
    "                    )\n",
    "\n",
    "medals_x_year_gruped.show()"
   ]
  },
  {
   "cell_type": "code",
   "execution_count": 127,
   "id": "74ab097b",
   "metadata": {},
   "outputs": [
    {
     "name": "stdout",
     "output_type": "stream",
     "text": [
      "root\n",
      " |-- sigla: string (nullable = true)\n",
      " |-- year: string (nullable = true)\n",
      " |-- nombre_subdisciplina: string (nullable = true)\n",
      " |-- count: long (nullable = false)\n",
      "\n"
     ]
    }
   ],
   "source": [
    "medals_x_year_gruped.printSchema()"
   ]
  },
  {
   "cell_type": "code",
   "execution_count": 128,
   "id": "9526578f",
   "metadata": {},
   "outputs": [
    {
     "name": "stderr",
     "output_type": "stream",
     "text": [
      "\r",
      "[Stage 233:>  (0 + 2) / 2][Stage 235:>  (0 + 2) / 2][Stage 236:>  (0 + 0) / 1]\r",
      "\r",
      "                                                                                \r"
     ]
    },
    {
     "name": "stdout",
     "output_type": "stream",
     "text": [
      "22/09/15 17:17:32 WARN CSVHeaderChecker: CSV header does not conform to the schema.\n",
      " Header: , nombre_juego\n",
      " Schema: juego_id, anio\n",
      "Expected: juego_id but found: \n",
      "CSV file: file:///workspace/data/juegos.csv\n",
      "22/09/15 17:17:32 WARN CSVHeaderChecker: CSV header does not conform to the schema.\n",
      " Header: evento_id, evento, deporte_id\n",
      " Schema: evento_id, nombre, deporte_id\n",
      "Expected: nombre but found: evento\n",
      "CSV file: file:///workspace/data/evento.csv\n"
     ]
    },
    {
     "name": "stderr",
     "output_type": "stream",
     "text": [
      "[Stage 242:==========================================>              (3 + 1) / 4]\r"
     ]
    },
    {
     "name": "stdout",
     "output_type": "stream",
     "text": [
      "+-----+-------------+------------+------------------+\n",
      "|sigla|         year|total_medals|       mean_medals|\n",
      "+-----+-------------+------------+------------------+\n",
      "|  MGL|  2008 Verano|           5|              1.25|\n",
      "|  SUI|2014 Invierno|          29|3.2222222222222223|\n",
      "|  ETH|  2004 Verano|           7|              1.75|\n",
      "|  BEL|  2000 Verano|           7|               1.4|\n",
      "|  SWE|  1976 Verano|          10|               2.0|\n",
      "|  AUT|  1928 Verano|           5|              1.25|\n",
      "|  SYR|  1984 Verano|           1|               1.0|\n",
      "|  NED|1992 Invierno|           4|1.3333333333333333|\n",
      "|  ITA|  1996 Verano|          69| 2.225806451612903|\n",
      "|  ARG|  2004 Verano|          49| 8.166666666666666|\n",
      "|  CHI|  1988 Verano|           1|               1.0|\n",
      "|  URS|1984 Invierno|          56|               2.8|\n",
      "|  DEN|  1956 Verano|           6|               1.5|\n",
      "|  THA|  2008 Verano|           4|               1.0|\n",
      "|  DEN|  1896 Verano|           6|               1.0|\n",
      "|  GRN|  2016 Verano|           1|               1.0|\n",
      "|  ITA|  1972 Verano|          25|            1.5625|\n",
      "|  GBR|  1980 Verano|          49|              2.45|\n",
      "|  BRA|  1988 Verano|          23|3.8333333333333335|\n",
      "|  POL|  1988 Verano|          21|            1.3125|\n",
      "+-----+-------------+------------+------------------+\n",
      "only showing top 20 rows\n",
      "\n"
     ]
    },
    {
     "name": "stderr",
     "output_type": "stream",
     "text": [
      "\r",
      "                                                                                \r"
     ]
    }
   ],
   "source": [
    "medals_x_year_gruped.groupBy(\n",
    "    \"sigla\",\n",
    "    \"year\"\n",
    "    ).agg(\n",
    "        sum(\"count\").alias(\"total_medals\"),\n",
    "        avg(\"count\").alias('mean_medals')\n",
    "        ).show()"
   ]
  },
  {
   "cell_type": "markdown",
   "id": "4411a65b",
   "metadata": {},
   "source": [
    "### DF registrados como SQL"
   ]
  },
  {
   "cell_type": "code",
   "execution_count": 137,
   "id": "cec6a7b3",
   "metadata": {},
   "outputs": [],
   "source": [
    "resultDF.createOrReplaceTempView('result')\n",
    "playerDF.createOrReplaceTempView('player')\n",
    "countriesDF.createOrReplaceTempView('countries')"
   ]
  },
  {
   "cell_type": "code",
   "execution_count": 138,
   "id": "1cdff29e",
   "metadata": {},
   "outputs": [
    {
     "name": "stdout",
     "output_type": "stream",
     "text": [
      "+-------------+--------------------+------+----+------+----+---------+\n",
      "|deportista_id|              nombre|genero|edad|altura|peso|equipo_id|\n",
      "+-------------+--------------------+------+----+------+----+---------+\n",
      "|            1|           A Dijiang|     1|  24|   180|80.0|      199|\n",
      "|            2|            A Lamusi|     1|  23|   170|60.0|      199|\n",
      "|            3| Gunnar Nielsen Aaby|     1|  24|     0| 0.0|      273|\n",
      "|            4|Edgar Lindenau Aabye|     1|  34|     0| 0.0|      278|\n",
      "|            5|Christine Jacoba ...|     2|  21|   185|82.0|      705|\n",
      "+-------------+--------------------+------+----+------+----+---------+\n",
      "only showing top 5 rows\n",
      "\n"
     ]
    }
   ],
   "source": [
    "sqlContext.sql(\"SELECT * FROM player\").show(5)"
   ]
  },
  {
   "cell_type": "code",
   "execution_count": 139,
   "id": "0e1a057a",
   "metadata": {},
   "outputs": [
    {
     "name": "stderr",
     "output_type": "stream",
     "text": [
      "[Stage 259:==========================================>              (3 + 1) / 4]\r"
     ]
    },
    {
     "name": "stdout",
     "output_type": "stream",
     "text": [
      "+-------+--------+-----+\n",
      "|medalla|  equipo|sigla|\n",
      "+-------+--------+-----+\n",
      "|   Gold|Zimbabwe|  ZIM|\n",
      "| Silver|Zimbabwe|  ZIM|\n",
      "|   Gold|Zimbabwe|  ZIM|\n",
      "| Bronze|Zimbabwe|  ZIM|\n",
      "|   Gold|Zimbabwe|  ZIM|\n",
      "|   Gold|Zimbabwe|  ZIM|\n",
      "|   Gold|Zimbabwe|  ZIM|\n",
      "|   Gold|Zimbabwe|  ZIM|\n",
      "| Silver|Zimbabwe|  ZIM|\n",
      "| Silver|Zimbabwe|  ZIM|\n",
      "|   Gold|Zimbabwe|  ZIM|\n",
      "|   Gold|Zimbabwe|  ZIM|\n",
      "|   Gold|Zimbabwe|  ZIM|\n",
      "|   Gold|Zimbabwe|  ZIM|\n",
      "|   Gold|Zimbabwe|  ZIM|\n",
      "|   Gold|Zimbabwe|  ZIM|\n",
      "| Silver|Zimbabwe|  ZIM|\n",
      "|   Gold|Zimbabwe|  ZIM|\n",
      "|   Gold|Zimbabwe|  ZIM|\n",
      "|   Gold|Zimbabwe|  ZIM|\n",
      "+-------+--------+-----+\n",
      "only showing top 20 rows\n",
      "\n"
     ]
    },
    {
     "name": "stderr",
     "output_type": "stream",
     "text": [
      "\r",
      "                                                                                \r"
     ]
    }
   ],
   "source": [
    "sqlContext.sql(\n",
    "    \"\"\"\n",
    "    SELECT\n",
    "        medalla,\n",
    "        equipo,\n",
    "        sigla\n",
    "    FROM\n",
    "        result r    \n",
    "    JOIN\n",
    "        player p\n",
    "        ON r.deportista_id = p.deportista_id\n",
    "        \n",
    "        JOIN\n",
    "            countries c\n",
    "            ON c.id = p.equipo_id\n",
    "    WHERE\n",
    "        medalla <> 'NA'\n",
    "        \n",
    "    ORDER BY\n",
    "        sigla DESC\n",
    "    \"\"\"\n",
    ").show()"
   ]
  },
  {
   "cell_type": "code",
   "execution_count": null,
   "id": "4d20efcd",
   "metadata": {},
   "outputs": [],
   "source": []
  }
 ],
 "metadata": {
  "kernelspec": {
   "display_name": "Python 3 (ipykernel)",
   "language": "python",
   "name": "python3"
  },
  "language_info": {
   "codemirror_mode": {
    "name": "ipython",
    "version": 3
   },
   "file_extension": ".py",
   "mimetype": "text/x-python",
   "name": "python",
   "nbconvert_exporter": "python",
   "pygments_lexer": "ipython3",
   "version": "3.10.4"
  }
 },
 "nbformat": 4,
 "nbformat_minor": 5
}
