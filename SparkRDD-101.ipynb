{
 "cells": [
  {
   "cell_type": "code",
   "execution_count": 33,
   "id": "ac3443fc",
   "metadata": {},
   "outputs": [],
   "source": [
    "import pyspark\n",
    "from pyspark.sql import *\n",
    "from pyspark.sql.functions import *\n",
    "from pyspark import SparkContext, SparkConf\n",
    "\n",
    "from operator import add"
   ]
  },
  {
   "cell_type": "code",
   "execution_count": 2,
   "id": "8dce65d2",
   "metadata": {},
   "outputs": [
    {
     "name": "stderr",
     "output_type": "stream",
     "text": [
      "Setting default log level to \"WARN\".\n",
      "To adjust logging level use sc.setLogLevel(newLevel). For SparkR, use setLogLevel(newLevel).\n"
     ]
    },
    {
     "name": "stdout",
     "output_type": "stream",
     "text": [
      "22/09/15 04:20:00 WARN NativeCodeLoader: Unable to load native-hadoop library for your platform... using builtin-java classes where applicable\n"
     ]
    }
   ],
   "source": [
    "conf = SparkConf().set(\"spark.ui.port\", \"4050\")\n",
    "\n",
    "# creamos el contexto y la sesión\n",
    "sc = pyspark.SparkContext(conf=conf)\n",
    "spark = SparkSession.builder.getOrCreate()"
   ]
  },
  {
   "cell_type": "code",
   "execution_count": 3,
   "id": "42e222be",
   "metadata": {},
   "outputs": [
    {
     "data": {
      "text/html": [
       "\n",
       "            <div>\n",
       "                <p><b>SparkSession - in-memory</b></p>\n",
       "                \n",
       "        <div>\n",
       "            <p><b>SparkContext</b></p>\n",
       "\n",
       "            <p><a href=\"http://193f295453ee:4050\">Spark UI</a></p>\n",
       "\n",
       "            <dl>\n",
       "              <dt>Version</dt>\n",
       "                <dd><code>v3.3.0</code></dd>\n",
       "              <dt>Master</dt>\n",
       "                <dd><code>local[*]</code></dd>\n",
       "              <dt>AppName</dt>\n",
       "                <dd><code>pyspark-shell</code></dd>\n",
       "            </dl>\n",
       "        </div>\n",
       "        \n",
       "            </div>\n",
       "        "
      ],
      "text/plain": [
       "<pyspark.sql.session.SparkSession at 0xffff745d14e0>"
      ]
     },
     "execution_count": 3,
     "metadata": {},
     "output_type": "execute_result"
    }
   ],
   "source": [
    "spark"
   ]
  },
  {
   "cell_type": "code",
   "execution_count": 4,
   "id": "891f4f98",
   "metadata": {},
   "outputs": [
    {
     "name": "stderr",
     "output_type": "stream",
     "text": [
      "                                                                                \r"
     ]
    },
    {
     "data": {
      "text/plain": [
       "[['id', 'equipo', 'sigla'],\n",
       " ['1', '30. Februar', 'AUT'],\n",
       " ['2', 'A North American Team', 'MEX'],\n",
       " ['3', 'Acipactli', 'MEX'],\n",
       " ['4', 'Acturus', 'ARG']]"
      ]
     },
     "execution_count": 4,
     "metadata": {},
     "output_type": "execute_result"
    }
   ],
   "source": [
    "dataRDD = sc.textFile('./data/paises.csv').map(lambda x: x.split(','))\n",
    "dataRDD.take(5)"
   ]
  },
  {
   "cell_type": "markdown",
   "id": "4bdda8db",
   "metadata": {},
   "source": [
    "#### Número de países participantes"
   ]
  },
  {
   "cell_type": "code",
   "execution_count": 5,
   "id": "14627af0",
   "metadata": {},
   "outputs": [
    {
     "data": {
      "text/plain": [
       "231"
      ]
     },
     "execution_count": 5,
     "metadata": {},
     "output_type": "execute_result"
    }
   ],
   "source": [
    "dataRDD.map(lambda x: (x[2])).distinct().count()"
   ]
  },
  {
   "cell_type": "markdown",
   "id": "61c6e842",
   "metadata": {},
   "source": [
    "#### Número de equipos por país"
   ]
  },
  {
   "cell_type": "code",
   "execution_count": 6,
   "id": "d4191ca1",
   "metadata": {},
   "outputs": [
    {
     "data": {
      "text/plain": [
       "[('ARG', 18),\n",
       " ('AFG', 1),\n",
       " ('IRL', 7),\n",
       " ('POR', 21),\n",
       " ('AUS', 23),\n",
       " ('USA', 92),\n",
       " ('ANG', 1),\n",
       " ('DEN', 28),\n",
       " ('ANT', 1),\n",
       " ('CAN', 31),\n",
       " ('GER', 40),\n",
       " ('GRE', 28),\n",
       " ('ANZ', 2),\n",
       " ('AZE', 1),\n",
       " ('BIZ', 1)]"
      ]
     },
     "execution_count": 6,
     "metadata": {},
     "output_type": "execute_result"
    }
   ],
   "source": [
    "dataRDD.map(lambda x: (x[2], x[1])).groupByKey().mapValues(len).take(15)"
   ]
  },
  {
   "cell_type": "code",
   "execution_count": 7,
   "id": "3c40f537",
   "metadata": {},
   "outputs": [
    {
     "data": {
      "text/plain": [
       "[('ARG',\n",
       "  ['Acturus',\n",
       "   'Antares',\n",
       "   'Arcturus',\n",
       "   'Ardilla',\n",
       "   'Argentina',\n",
       "   'Argentina-1',\n",
       "   'Argentina-2',\n",
       "   'Blue Red',\n",
       "   'Covunco III',\n",
       "   'Cupidon III',\n",
       "   'Djinn',\n",
       "   'Gullvinge',\n",
       "   'Matrero II',\n",
       "   'Mizar',\n",
       "   'Pampero',\n",
       "   'Rampage',\n",
       "   'Tango',\n",
       "   'Wiking']),\n",
       " ('AFG', ['Afghanistan']),\n",
       " ('IRL',\n",
       "  ['Akatonbo',\n",
       "   'Aletta',\n",
       "   'Ireland',\n",
       "   'Ireland-1',\n",
       "   'Ireland-2',\n",
       "   'The Cloud',\n",
       "   'Three Leaves']),\n",
       " ('POR',\n",
       "  ['Alcaid',\n",
       "   'Argus',\n",
       "   'Calcinhas',\n",
       "   'Camelia',\n",
       "   'Ciocca III',\n",
       "   'Espadarte',\n",
       "   'Espardate',\n",
       "   'Faneca',\n",
       "   'Galopin De La Font',\n",
       "   'Grifo III',\n",
       "   'Grifo IV',\n",
       "   'Hannover',\n",
       "   \"Ma'Lindo\",\n",
       "   'Notavel',\n",
       "   'Oxalis',\n",
       "   'Portugal',\n",
       "   'Portugal-1',\n",
       "   'Portugal-2',\n",
       "   'Sjhxa',\n",
       "   'Symphony',\n",
       "   'Vicking']),\n",
       " ('AUS',\n",
       "  ['Amateur Athletic Association',\n",
       "   'Australia',\n",
       "   'Australia-1',\n",
       "   'Australia-2',\n",
       "   'Australia-3',\n",
       "   'Australia/Great Britain',\n",
       "   'Barrenjoey',\n",
       "   'Buraddoo',\n",
       "   'Cambria',\n",
       "   'Diablo',\n",
       "   'Falcon IV',\n",
       "   'Falcon VI',\n",
       "   'Gabbiano',\n",
       "   'Greenoaks Dundee',\n",
       "   'Hornet',\n",
       "   'Maryke',\n",
       "   'Moorina',\n",
       "   'Naiad',\n",
       "   'Pakaria',\n",
       "   'Paula',\n",
       "   'Quando Quando',\n",
       "   'Relampago',\n",
       "   'Vinha'])]"
      ]
     },
     "execution_count": 7,
     "metadata": {},
     "output_type": "execute_result"
    }
   ],
   "source": [
    "dataRDD.map(lambda x: (x[2], x[1])).groupByKey().mapValues(list).take(5)"
   ]
  },
  {
   "cell_type": "markdown",
   "id": "4eb08e14",
   "metadata": {},
   "source": [
    "#### Filtrar los equipos argentinos"
   ]
  },
  {
   "cell_type": "code",
   "execution_count": 8,
   "id": "ddc36866",
   "metadata": {
    "scrolled": true
   },
   "outputs": [
    {
     "data": {
      "text/plain": [
       "[['4', 'Acturus', 'ARG'],\n",
       " ['37', 'Antares', 'ARG'],\n",
       " ['42', 'Arcturus', 'ARG'],\n",
       " ['43', 'Ardilla', 'ARG'],\n",
       " ['45', 'Argentina', 'ARG'],\n",
       " ['46', 'Argentina-1', 'ARG'],\n",
       " ['47', 'Argentina-2', 'ARG'],\n",
       " ['119', 'Blue Red', 'ARG'],\n",
       " ['238', 'Covunco III', 'ARG'],\n",
       " ['252', 'Cupidon III', 'ARG'],\n",
       " ['288', 'Djinn', 'ARG'],\n",
       " ['436', 'Gullvinge', 'ARG'],\n",
       " ['644', 'Matrero II', 'ARG'],\n",
       " ['672', 'Mizar', 'ARG'],\n",
       " ['774', 'Pampero', 'ARG'],\n",
       " ['843', 'Rampage', 'ARG'],\n",
       " ['1031', 'Tango', 'ARG'],\n",
       " ['1162', 'Wiking', 'ARG']]"
      ]
     },
     "execution_count": 8,
     "metadata": {},
     "output_type": "execute_result"
    }
   ],
   "source": [
    "teamsARG = dataRDD.filter(lambda x: \"ARG\" in x).collect()\n",
    "teamsARG"
   ]
  },
  {
   "cell_type": "code",
   "execution_count": 9,
   "id": "00533c24",
   "metadata": {},
   "outputs": [
    {
     "data": {
      "text/plain": [
       "1185"
      ]
     },
     "execution_count": 9,
     "metadata": {},
     "output_type": "execute_result"
    }
   ],
   "source": [
    "dataRDD.count()"
   ]
  },
  {
   "cell_type": "code",
   "execution_count": 10,
   "id": "b121ea86",
   "metadata": {},
   "outputs": [
    {
     "data": {
      "text/plain": [
       "1185"
      ]
     },
     "execution_count": 10,
     "metadata": {},
     "output_type": "execute_result"
    }
   ],
   "source": [
    "dataRDD.countApprox(20)"
   ]
  },
  {
   "cell_type": "markdown",
   "id": "910580c3",
   "metadata": {},
   "source": [
    "#### Concatenar RDDs"
   ]
  },
  {
   "cell_type": "code",
   "execution_count": 11,
   "id": "36282355",
   "metadata": {},
   "outputs": [
    {
     "data": {
      "text/plain": [
       "[['deportista_id', 'nombre', 'genero', 'edad', 'altura', 'peso', 'equipo_id'],\n",
       " ['1', 'A Dijiang', '1', '24', '180', '80', '199'],\n",
       " ['2', 'A Lamusi', '1', '23', '170', '60', '199']]"
      ]
     },
     "execution_count": 11,
     "metadata": {},
     "output_type": "execute_result"
    }
   ],
   "source": [
    "player1 = sc.textFile('./data/player.csv').map(lambda x: x.split(','))\n",
    "player2 = sc.textFile('./data/player2.csv').map(lambda x: x.split(','))\n",
    "player1.take(3)"
   ]
  },
  {
   "cell_type": "code",
   "execution_count": 12,
   "id": "267fb048",
   "metadata": {},
   "outputs": [
    {
     "data": {
      "text/plain": [
       "[['67787', 'Lee BongJu', '1', '27', '167', '56', '970'],\n",
       " ['67788', 'Lee BuTi', '1', '23', '164', '54', '203'],\n",
       " ['67789', 'Anthony N. Buddy Lee', '1', '34', '172', '62', '1096']]"
      ]
     },
     "execution_count": 12,
     "metadata": {},
     "output_type": "execute_result"
    }
   ],
   "source": [
    "player2.take(3)"
   ]
  },
  {
   "cell_type": "code",
   "execution_count": 13,
   "id": "7ec0cd78",
   "metadata": {},
   "outputs": [
    {
     "data": {
      "text/plain": [
       "135572"
      ]
     },
     "execution_count": 13,
     "metadata": {},
     "output_type": "execute_result"
    }
   ],
   "source": [
    "playerRDD = player1.union(player2)\n",
    "playerRDD.count()"
   ]
  },
  {
   "cell_type": "code",
   "execution_count": 14,
   "id": "671b5381",
   "metadata": {},
   "outputs": [
    {
     "data": {
      "text/plain": [
       "[['deportista_id', 'nombre', 'genero', 'edad', 'altura', 'peso', 'equipo_id'],\n",
       " ['99999', 'Alexander Grant Alick Rennie', '1', '32', '182', '71', '967']]"
      ]
     },
     "execution_count": 14,
     "metadata": {},
     "output_type": "execute_result"
    }
   ],
   "source": [
    "playerRDD.top(2)"
   ]
  },
  {
   "cell_type": "code",
   "execution_count": 15,
   "id": "2704298c",
   "metadata": {},
   "outputs": [
    {
     "data": {
      "text/plain": [
       "[['id', 'equipo', 'sigla'], ['999', 'Stella-2', 'NOR']]"
      ]
     },
     "execution_count": 15,
     "metadata": {},
     "output_type": "execute_result"
    }
   ],
   "source": [
    "dataRDD.top(2)"
   ]
  },
  {
   "cell_type": "markdown",
   "id": "241bd360",
   "metadata": {},
   "source": [
    "#### Join entre RDDs"
   ]
  },
  {
   "cell_type": "code",
   "execution_count": 16,
   "id": "e2e5f202",
   "metadata": {},
   "outputs": [
    {
     "name": "stderr",
     "output_type": "stream",
     "text": [
      "                                                                                \r"
     ]
    },
    {
     "data": {
      "text/plain": [
       "[('278', (['4', 'Edgar Lindenau Aabye', '1', '34', '0', '0'], 'SWE')),\n",
       " ('278', (['86368', 'August Nilsson', '1', '27', '0', '0'], 'SWE')),\n",
       " ('278', (['112720', 'Gustaf Fredrik Sderstrm', '1', '34', '0', '0'], 'SWE')),\n",
       " ('278',\n",
       "  (['114107', 'Karl Gustaf Vilhelm Staaf Johansson ', '1', '19', '0', '0'],\n",
       "   'SWE')),\n",
       " ('278',\n",
       "  (['130945', 'Charles Gustav Wilhelm Winckler', '1', '33', '0', '0'], 'SWE')),\n",
       " ('982', (['51', 'Nstor Abad Sanjun', '1', '23', '167', '64'], 'ESP'))]"
      ]
     },
     "execution_count": 16,
     "metadata": {},
     "output_type": "execute_result"
    }
   ],
   "source": [
    "playerRDD.map(lambda x: [x[-1], x[:-1]])\\\n",
    "            .join(dataRDD.map(lambda x: [x[0], x[-1]]))\\\n",
    "            .take(6)"
   ]
  },
  {
   "cell_type": "markdown",
   "id": "bc979f2c",
   "metadata": {},
   "source": [
    "Tomar una muestra con datos sin repetir `False`, número de ejemplos `6` y un random state `25`"
   ]
  },
  {
   "cell_type": "code",
   "execution_count": 17,
   "id": "7f4fa378",
   "metadata": {},
   "outputs": [
    {
     "name": "stderr",
     "output_type": "stream",
     "text": [
      "                                                                                \r"
     ]
    },
    {
     "data": {
      "text/plain": [
       "[('514', (['58198', 'Mayumi Kawasaki', '2', '24', '167', '52'], 'JPN')),\n",
       " ('399',\n",
       "  (['129907', 'Armin Christian Weyrauch', '1', '28', '193', '95'], 'GER')),\n",
       " ('487', (['53275', 'Khashaba Dadasaheb Jahdav', '1', '21', '0', '0'], 'IND')),\n",
       " ('138',\n",
       "  (['110517', 'Hlio Frederico Gomes da Silva', '1', '22', '183', '79'],\n",
       "   'BRA')),\n",
       " ('507', (['121829', 'Nicola Trentin', '1', '30', '178', '70'], 'ITA')),\n",
       " ('138',\n",
       "  (['23297', 'Kissya Cataldo da Costa', '2', '30', '180', '67'], 'BRA'))]"
      ]
     },
     "execution_count": 17,
     "metadata": {},
     "output_type": "execute_result"
    }
   ],
   "source": [
    "playerRDD.map(lambda x: [x[-1], x[:-1]])\\\n",
    "            .join(dataRDD.map(lambda x: [x[0], x[-1]]))\\\n",
    "            .takeSample(False, 6, 25)"
   ]
  },
  {
   "cell_type": "code",
   "execution_count": 20,
   "id": "236f6207",
   "metadata": {},
   "outputs": [
    {
     "name": "stderr",
     "output_type": "stream",
     "text": [
      "                                                                                \r"
     ]
    },
    {
     "data": {
      "text/plain": [
       "[('278', (['4', 'Edgar Lindenau Aabye', '1', '34', '0', '0'], 'SWE')),\n",
       " ('278', (['86368', 'August Nilsson', '1', '27', '0', '0'], 'SWE'))]"
      ]
     },
     "execution_count": 20,
     "metadata": {},
     "output_type": "execute_result"
    }
   ],
   "source": [
    "playerTeamRDD = playerRDD.map(lambda x: [x[-1], x[:-1]])\\\n",
    "            .join(dataRDD.map(lambda x: [x[0], x[-1]]))\n",
    "playerTeamRDD.take(2)"
   ]
  },
  {
   "cell_type": "markdown",
   "id": "63712600",
   "metadata": {},
   "source": [
    "#### Cargar `resultados.csv`"
   ]
  },
  {
   "cell_type": "code",
   "execution_count": 18,
   "id": "000846ab",
   "metadata": {},
   "outputs": [
    {
     "data": {
      "text/plain": [
       "[['resultado_id', 'medalla', 'deportista_id', 'juego_id', 'evento_id'],\n",
       " ['1', 'NA', '1', '39', '1'],\n",
       " ['2', 'NA', '2', '49', '2']]"
      ]
     },
     "execution_count": 18,
     "metadata": {},
     "output_type": "execute_result"
    }
   ],
   "source": [
    "resultadosRDD = sc.textFile('./data/resultados.csv').map(lambda x: x.split(','))\n",
    "resultadosRDD.take(3)"
   ]
  },
  {
   "cell_type": "markdown",
   "id": "887e0569",
   "metadata": {},
   "source": [
    "#### Filtrar por resultados con medalla"
   ]
  },
  {
   "cell_type": "code",
   "execution_count": 19,
   "id": "d8cf562d",
   "metadata": {
    "scrolled": true
   },
   "outputs": [
    {
     "data": {
      "text/plain": [
       "[['resultado_id', 'medalla', 'deportista_id', 'juego_id', 'evento_id'],\n",
       " ['4', 'Gold', '4', '2', '4'],\n",
       " ['38', 'Bronze', '15', '7', '19'],\n",
       " ['39', 'Bronze', '15', '7', '20'],\n",
       " ['41', 'Bronze', '16', '50', '14']]"
      ]
     },
     "execution_count": 19,
     "metadata": {},
     "output_type": "execute_result"
    }
   ],
   "source": [
    "resultadosfRDD = resultadosRDD.filter(lambda x: \"NA\" not in x[1])\n",
    "resultadosfRDD.take(5)"
   ]
  },
  {
   "cell_type": "code",
   "execution_count": 21,
   "id": "a36d3881",
   "metadata": {},
   "outputs": [
    {
     "name": "stderr",
     "output_type": "stream",
     "text": [
      "                                                                                \r"
     ]
    },
    {
     "data": {
      "text/plain": [
       "[('278', (['4', 'Edgar Lindenau Aabye', '1', '34', '0', '0'], 'SWE')),\n",
       " ('278', (['86368', 'August Nilsson', '1', '27', '0', '0'], 'SWE')),\n",
       " ('278', (['112720', 'Gustaf Fredrik Sderstrm', '1', '34', '0', '0'], 'SWE'))]"
      ]
     },
     "execution_count": 21,
     "metadata": {},
     "output_type": "execute_result"
    }
   ],
   "source": [
    "playerCountryRDD = playerRDD\\\n",
    "    .map(lambda x: [x[-1], x[:-1]])\\\n",
    "    .join(dataRDD.map(lambda x: [x[0], x[2]]))\n",
    "playerCountryRDD.take(3)"
   ]
  },
  {
   "cell_type": "code",
   "execution_count": 22,
   "id": "02fb518a",
   "metadata": {},
   "outputs": [
    {
     "name": "stderr",
     "output_type": "stream",
     "text": [
      "                                                                                \r"
     ]
    },
    {
     "data": {
      "text/plain": [
       "[('972',\n",
       "  ((['3585', 'An JaeHyeong', '1', '23', '183', '74'], 'KOR'), 'Silver')),\n",
       " ('972', ((['19788', 'Chang YeNa', '2', '26', '172', '61'], 'KOR'), 'Silver')),\n",
       " ('972',\n",
       "  ((['40891', 'Go SeongHyeon', '1', '25', '182', '85'], 'KOR'), 'Silver'))]"
      ]
     },
     "execution_count": 22,
     "metadata": {},
     "output_type": "execute_result"
    }
   ],
   "source": [
    "playerCountryRDD.join(resultadosfRDD).take(3)"
   ]
  },
  {
   "cell_type": "markdown",
   "id": "995c7f42",
   "metadata": {},
   "source": [
    "### Operaciones Numéricas"
   ]
  },
  {
   "cell_type": "code",
   "execution_count": 24,
   "id": "65c14b6c",
   "metadata": {},
   "outputs": [],
   "source": [
    "valsMedals = {\n",
    "    'Gold': 7,\n",
    "    'Silver': 5,\n",
    "    'Bronze': 4\n",
    "}"
   ]
  },
  {
   "cell_type": "code",
   "execution_count": 27,
   "id": "4b0a5f62",
   "metadata": {},
   "outputs": [],
   "source": [
    "countryMedals = playerCountryRDD.join(resultadosfRDD)"
   ]
  },
  {
   "cell_type": "code",
   "execution_count": 29,
   "id": "bda45c58",
   "metadata": {},
   "outputs": [
    {
     "name": "stderr",
     "output_type": "stream",
     "text": [
      "                                                                                \r"
     ]
    },
    {
     "data": {
      "text/plain": [
       "[['KOR', 'Silver'], ['KOR', 'Silver'], ['KOR', 'Silver'], ['KOR', 'Silver']]"
      ]
     },
     "execution_count": 29,
     "metadata": {},
     "output_type": "execute_result"
    }
   ],
   "source": [
    "countryMedals.map(lambda x: [x[1][0][-1], x[1][1]]).take(4)"
   ]
  },
  {
   "cell_type": "code",
   "execution_count": 35,
   "id": "c9905959",
   "metadata": {},
   "outputs": [
    {
     "data": {
      "text/plain": [
       "[['KOR', 5], ['KOR', 5], ['KOR', 5]]"
      ]
     },
     "execution_count": 35,
     "metadata": {},
     "output_type": "execute_result"
    }
   ],
   "source": [
    "countryMedalsNum = countryMedals\\\n",
    "    .map(lambda x: [x[1][0][-1], valsMedals[x[1][1]]])\n",
    "countryMedalsNum.take(3)"
   ]
  },
  {
   "cell_type": "code",
   "execution_count": 37,
   "id": "c4aa34ec",
   "metadata": {},
   "outputs": [
    {
     "data": {
      "text/plain": [
       "[('CAN', 32538),\n",
       " ('ARG', 12520),\n",
       " ('HUN', 10860),\n",
       " ('MEX', 6124),\n",
       " ('RSA', 3788),\n",
       " ('BLR', 3580),\n",
       " ('LTU', 1535),\n",
       " ('MGL', 1460),\n",
       " ('USA', 1342),\n",
       " ('AZE', 1218)]"
      ]
     },
     "execution_count": 37,
     "metadata": {},
     "output_type": "execute_result"
    }
   ],
   "source": [
    "finalResult = countryMedalsNum\\\n",
    "    .reduceByKey((add))\\\n",
    "    .sortBy(lambda x: x[1], ascending=False)\n",
    "finalResult.take(10)"
   ]
  },
  {
   "cell_type": "code",
   "execution_count": null,
   "id": "96be4fa5",
   "metadata": {},
   "outputs": [],
   "source": []
  }
 ],
 "metadata": {
  "kernelspec": {
   "display_name": "Python 3 (ipykernel)",
   "language": "python",
   "name": "python3"
  },
  "language_info": {
   "codemirror_mode": {
    "name": "ipython",
    "version": 3
   },
   "file_extension": ".py",
   "mimetype": "text/x-python",
   "name": "python",
   "nbconvert_exporter": "python",
   "pygments_lexer": "ipython3",
   "version": "3.10.4"
  }
 },
 "nbformat": 4,
 "nbformat_minor": 5
}
