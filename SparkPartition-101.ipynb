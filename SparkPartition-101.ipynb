{
 "cells": [
  {
   "cell_type": "code",
   "execution_count": 1,
   "id": "85601b0c",
   "metadata": {},
   "outputs": [],
   "source": [
    "from pyspark.sql import SparkSession"
   ]
  },
  {
   "cell_type": "code",
   "execution_count": 2,
   "id": "94bed05c",
   "metadata": {},
   "outputs": [
    {
     "name": "stderr",
     "output_type": "stream",
     "text": [
      "Setting default log level to \"WARN\".\n",
      "To adjust logging level use sc.setLogLevel(newLevel). For SparkR, use setLogLevel(newLevel).\n"
     ]
    },
    {
     "name": "stdout",
     "output_type": "stream",
     "text": [
      "22/09/15 20:18:21 WARN NativeCodeLoader: Unable to load native-hadoop library for your platform... using builtin-java classes where applicable\n"
     ]
    }
   ],
   "source": [
    "spark = SparkSession.builder.appName('Partiotion').master('local[5]').getOrCreate()"
   ]
  },
  {
   "cell_type": "code",
   "execution_count": 3,
   "id": "7c522ea9",
   "metadata": {},
   "outputs": [
    {
     "data": {
      "text/plain": [
       "5"
      ]
     },
     "execution_count": 3,
     "metadata": {},
     "output_type": "execute_result"
    }
   ],
   "source": [
    "df = spark.range(0,20)\n",
    "df.rdd.getNumPartitions()\n"
   ]
  },
  {
   "cell_type": "code",
   "execution_count": 4,
   "id": "e62bc25e",
   "metadata": {},
   "outputs": [
    {
     "data": {
      "text/plain": [
       "10"
      ]
     },
     "execution_count": 4,
     "metadata": {},
     "output_type": "execute_result"
    }
   ],
   "source": [
    "rdd1 = spark.sparkContext.parallelize((0,20), 10)\n",
    "rdd1.getNumPartitions()"
   ]
  },
  {
   "cell_type": "markdown",
   "id": "8f734462",
   "metadata": {},
   "source": [
    "### File in partitions"
   ]
  },
  {
   "cell_type": "code",
   "execution_count": 5,
   "id": "e128c2b0",
   "metadata": {},
   "outputs": [
    {
     "data": {
      "text/plain": [
       "10"
      ]
     },
     "execution_count": 5,
     "metadata": {},
     "output_type": "execute_result"
    }
   ],
   "source": [
    "file_RDD = spark.sparkContext.textFile('./data/deporte.csv', 10)\n",
    "file_RDD.getNumPartitions()"
   ]
  },
  {
   "cell_type": "code",
   "execution_count": 6,
   "id": "be936d4a",
   "metadata": {},
   "outputs": [
    {
     "name": "stderr",
     "output_type": "stream",
     "text": [
      "                                                                                \r"
     ]
    }
   ],
   "source": [
    "file_RDD.saveAsTextFile('./data/outputtext')"
   ]
  },
  {
   "cell_type": "code",
   "execution_count": 7,
   "id": "4c3061e8",
   "metadata": {},
   "outputs": [
    {
     "name": "stdout",
     "output_type": "stream",
     "text": [
      "_SUCCESS    part-00001\tpart-00003  part-00005\tpart-00007  part-00009\r\n",
      "part-00000  part-00002\tpart-00004  part-00006\tpart-00008\r\n"
     ]
    }
   ],
   "source": [
    "! ls ./data/outputtext/"
   ]
  },
  {
   "cell_type": "code",
   "execution_count": 8,
   "id": "e87cd3d2",
   "metadata": {},
   "outputs": [],
   "source": [
    "! cat ./data/outputtext/_SUCCESS"
   ]
  },
  {
   "cell_type": "code",
   "execution_count": 9,
   "id": "0c275bd3",
   "metadata": {},
   "outputs": [
    {
     "name": "stdout",
     "output_type": "stream",
     "text": [
      "21,Hockey\r\n",
      "22,Rowing\r\n",
      "23,Bobsleigh\r\n",
      "24,Fencing\r\n",
      "25,Equestrianism\r\n"
     ]
    }
   ],
   "source": [
    "! head -n 5 ./data/outputtext/part-00003"
   ]
  },
  {
   "cell_type": "markdown",
   "id": "eb7c8075",
   "metadata": {},
   "source": [
    "### Merge partitions"
   ]
  },
  {
   "cell_type": "code",
   "execution_count": 10,
   "id": "915184a1",
   "metadata": {},
   "outputs": [
    {
     "data": {
      "text/plain": [
       "[('file:/workspace/data/outputtext/part-00000',\n",
       "  'deporte_id,deporte\\n1,Basketball\\n2,Judo\\n3,Football\\n4,Tug-Of-War\\n5,Speed Skating\\n6,Cross Country Skiing\\n'),\n",
       " ('file:/workspace/data/outputtext/part-00001',\n",
       "  '7,Athletics\\n8,Ice Hockey\\n9,Swimming\\n10,Badminton\\n11,Sailing\\n12,Biathlon\\n13,Gymnastics\\n14,Art Competitions\\n'),\n",
       " ('file:/workspace/data/outputtext/part-00002',\n",
       "  '15,Alpine Skiing\\n16,Handball\\n17,Weightlifting\\n18,Wrestling\\n19,Luge\\n20,Water Polo\\n'),\n",
       " ('file:/workspace/data/outputtext/part-00003',\n",
       "  '21,Hockey\\n22,Rowing\\n23,Bobsleigh\\n24,Fencing\\n25,Equestrianism\\n26,Shooting\\n27,Boxing\\n28,Taekwondo\\n'),\n",
       " ('file:/workspace/data/outputtext/part-00004',\n",
       "  '29,Cycling\\n30,Diving\\n31,Canoeing\\n32,Tennis\\n33,Modern Pentathlon\\n34,Figure Skating\\n35,Golf\\n')]"
      ]
     },
     "execution_count": 10,
     "metadata": {},
     "output_type": "execute_result"
    }
   ],
   "source": [
    "rdd = spark.sparkContext.wholeTextFiles('./data/outputtext/*')\n",
    "rdd.take(5)"
   ]
  },
  {
   "cell_type": "code",
   "execution_count": 11,
   "id": "d895629f",
   "metadata": {},
   "outputs": [
    {
     "data": {
      "text/plain": [
       "[('file:/workspace/data/outputtext/part-00000',\n",
       "  ['deporte_id,deporte',\n",
       "   '1,Basketball',\n",
       "   '2,Judo',\n",
       "   '3,Football',\n",
       "   '4,Tug-Of-War',\n",
       "   '5,Speed',\n",
       "   'Skating',\n",
       "   '6,Cross',\n",
       "   'Country',\n",
       "   'Skiing']),\n",
       " ('file:/workspace/data/outputtext/part-00001',\n",
       "  ['7,Athletics',\n",
       "   '8,Ice',\n",
       "   'Hockey',\n",
       "   '9,Swimming',\n",
       "   '10,Badminton',\n",
       "   '11,Sailing',\n",
       "   '12,Biathlon',\n",
       "   '13,Gymnastics',\n",
       "   '14,Art',\n",
       "   'Competitions']),\n",
       " ('file:/workspace/data/outputtext/part-00002',\n",
       "  ['15,Alpine',\n",
       "   'Skiing',\n",
       "   '16,Handball',\n",
       "   '17,Weightlifting',\n",
       "   '18,Wrestling',\n",
       "   '19,Luge',\n",
       "   '20,Water',\n",
       "   'Polo']),\n",
       " ('file:/workspace/data/outputtext/part-00003',\n",
       "  ['21,Hockey',\n",
       "   '22,Rowing',\n",
       "   '23,Bobsleigh',\n",
       "   '24,Fencing',\n",
       "   '25,Equestrianism',\n",
       "   '26,Shooting',\n",
       "   '27,Boxing',\n",
       "   '28,Taekwondo']),\n",
       " ('file:/workspace/data/outputtext/part-00004',\n",
       "  ['29,Cycling',\n",
       "   '30,Diving',\n",
       "   '31,Canoeing',\n",
       "   '32,Tennis',\n",
       "   '33,Modern',\n",
       "   'Pentathlon',\n",
       "   '34,Figure',\n",
       "   'Skating',\n",
       "   '35,Golf']),\n",
       " ('file:/workspace/data/outputtext/part-00005',\n",
       "  ['36,Softball',\n",
       "   '37,Archery',\n",
       "   '38,Volleyball',\n",
       "   '39,Synchronized',\n",
       "   'Swimming',\n",
       "   '40,Table',\n",
       "   'Tennis',\n",
       "   '41,Nordic',\n",
       "   'Combined']),\n",
       " ('file:/workspace/data/outputtext/part-00006',\n",
       "  ['42,Baseball',\n",
       "   '43,Rhythmic',\n",
       "   'Gymnastics',\n",
       "   '44,Freestyle',\n",
       "   'Skiing',\n",
       "   '45,Rugby',\n",
       "   'Sevens',\n",
       "   '46,Trampolining']),\n",
       " ('file:/workspace/data/outputtext/part-00007',\n",
       "  ['47,Beach',\n",
       "   'Volleyball',\n",
       "   '48,Triathlon',\n",
       "   '49,Ski',\n",
       "   'Jumping',\n",
       "   '50,Curling',\n",
       "   '51,Snowboarding',\n",
       "   '52,Rugby',\n",
       "   '53,Short',\n",
       "   'Track',\n",
       "   'Speed',\n",
       "   'Skating']),\n",
       " ('file:/workspace/data/outputtext/part-00008',\n",
       "  ['54,Skeleton',\n",
       "   '55,Lacrosse',\n",
       "   '56,Polo',\n",
       "   '57,Cricket',\n",
       "   '58,Racquets',\n",
       "   '59,Motorboating',\n",
       "   '60,Military',\n",
       "   'Ski',\n",
       "   'Patrol']),\n",
       " ('file:/workspace/data/outputtext/part-00009',\n",
       "  ['61,Croquet',\n",
       "   '62,Jeu',\n",
       "   'De',\n",
       "   'Paume',\n",
       "   '63,Roque',\n",
       "   '64,Alpinism',\n",
       "   '65,Basque',\n",
       "   'Pelota',\n",
       "   '66,Aeronautics'])]"
      ]
     },
     "execution_count": 11,
     "metadata": {},
     "output_type": "execute_result"
    }
   ],
   "source": [
    "l = rdd.mapValues(lambda x: x.split()).collect()\n",
    "l"
   ]
  },
  {
   "cell_type": "code",
   "execution_count": 13,
   "id": "394843a5",
   "metadata": {},
   "outputs": [
    {
     "data": {
      "text/plain": [
       "['file:/workspace/data/outputtext/part-00000',\n",
       " 'file:/workspace/data/outputtext/part-00001',\n",
       " 'file:/workspace/data/outputtext/part-00002',\n",
       " 'file:/workspace/data/outputtext/part-00003',\n",
       " 'file:/workspace/data/outputtext/part-00004',\n",
       " 'file:/workspace/data/outputtext/part-00005',\n",
       " 'file:/workspace/data/outputtext/part-00006',\n",
       " 'file:/workspace/data/outputtext/part-00007',\n",
       " 'file:/workspace/data/outputtext/part-00008',\n",
       " 'file:/workspace/data/outputtext/part-00009']"
      ]
     },
     "execution_count": 13,
     "metadata": {},
     "output_type": "execute_result"
    }
   ],
   "source": [
    "l2 = [i[0] for i in l]\n",
    "l2.sort()\n",
    "l2"
   ]
  },
  {
   "cell_type": "code",
   "execution_count": 15,
   "id": "688a9906",
   "metadata": {},
   "outputs": [
    {
     "data": {
      "text/plain": [
       "[['deporte_id', 'deporte'], ['1', 'Basketball'], ['2', 'Judo']]"
      ]
     },
     "execution_count": 15,
     "metadata": {},
     "output_type": "execute_result"
    }
   ],
   "source": [
    "rdd2 = spark.sparkContext.textFile(','.join(l2)).map( lambda x: x.split(','))\n",
    "rdd2.take(3)"
   ]
  },
  {
   "cell_type": "code",
   "execution_count": null,
   "id": "22ce1dcb",
   "metadata": {},
   "outputs": [],
   "source": []
  }
 ],
 "metadata": {
  "kernelspec": {
   "display_name": "Python 3 (ipykernel)",
   "language": "python",
   "name": "python3"
  },
  "language_info": {
   "codemirror_mode": {
    "name": "ipython",
    "version": 3
   },
   "file_extension": ".py",
   "mimetype": "text/x-python",
   "name": "python",
   "nbconvert_exporter": "python",
   "pygments_lexer": "ipython3",
   "version": "3.10.4"
  }
 },
 "nbformat": 4,
 "nbformat_minor": 5
}
