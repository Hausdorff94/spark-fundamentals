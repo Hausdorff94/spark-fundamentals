{
  "cells": [
    {
      "cell_type": "code",
      "execution_count": null,
      "metadata": {
        "id": "4fpexIfLxJ7i"
      },
      "outputs": [],
      "source": [
        "import pandas as pd\n",
        "import numpy as np\n",
        "import matplotlib.pyplot as plt\n",
        "%matplotlib inline\n",
        "\n",
        "import pyspark\n",
        "from pyspark.sql import *\n",
        "from pyspark.sql.functions import *\n",
        "from pyspark import SparkContext, SparkConf"
      ]
    },
    {
      "cell_type": "code",
      "execution_count": null,
      "metadata": {
        "id": "CKSt3bEg84OH"
      },
      "outputs": [],
      "source": [
        "conf = SparkConf().set(\"spark.ui.port\", \"4050\")\n",
        "\n",
        "# creamos el contexto y la sesión\n",
        "sc = pyspark.SparkContext(conf=conf)\n",
        "spark = SparkSession.builder.getOrCreate()"
      ]
    },
    {
      "cell_type": "code",
      "execution_count": null,
      "metadata": {
        "id": "DtUvcCLw863U"
      },
      "outputs": [],
      "source": [
        "spark"
      ]
    },
    {
      "cell_type": "markdown",
      "metadata": {
        "id": "r9662IbbyBiI"
      },
      "source": [
        "### Retomemos el ejemplo de los trabajos de Shakespeare pero ahora usando Spark:"
      ]
    },
    {
      "cell_type": "code",
      "execution_count": null,
      "metadata": {
        "id": "24051VIRqKKB"
      },
      "outputs": [],
      "source": [
        "# from pydrive.auth import GoogleAuth\n",
        "# from pydrive.drive import GoogleDrive\n",
        "# from google.colab import auth\n",
        "# from oauth2client.client import GoogleCredentials\n",
        "\n",
        "# auth.authenticate_user()\n",
        "# gauth = GoogleAuth()\n",
        "# gauth.credentials = GoogleCredentials.get_application_default()\n",
        "# drive = GoogleDrive(gauth)\n",
        "\n",
        "# id='1SE6k_0YukzGd5wK-E4i6mG83nydlfvSa'\n",
        "# downloaded = drive.CreateFile({'id': id})\n",
        "# downloaded.GetContentFile('pg100.txt')"
      ]
    },
    {
      "cell_type": "markdown",
      "metadata": {
        "id": "rqwZJZUAyNHN"
      },
      "source": [
        "### Leemos el archivo `pg100.txt` y creamos un RDD usando SparkContext:"
      ]
    },
    {
      "cell_type": "code",
      "execution_count": null,
      "metadata": {
        "id": "rXJ41A69qKVn"
      },
      "outputs": [],
      "source": [
        "pg100 = sc.textFile('./data/pg100.txt')"
      ]
    },
    {
      "cell_type": "markdown",
      "metadata": {
        "id": "nYi2Pkv8ymLC"
      },
      "source": [
        "###**Para la casa:**  Entender la diferencia entre SparkContext y SparkSession"
      ]
    },
    {
      "cell_type": "code",
      "execution_count": null,
      "metadata": {
        "id": "VM1eQgi5txCB"
      },
      "outputs": [],
      "source": [
        "pg100.take(10)"
      ]
    },
    {
      "cell_type": "markdown",
      "metadata": {
        "id": "Apno1Yz5VOsz"
      },
      "source": [
        "### Creamos una función que \"limpia\" cada línea:  se remueven signos de puntuación y otros caracteres.  Adicionalmente convertimos el texto a minúscula"
      ]
    },
    {
      "cell_type": "code",
      "execution_count": null,
      "metadata": {
        "id": "O2yZKtcX0K20"
      },
      "outputs": [],
      "source": [
        "def clean_text(line:str) -> str:\n",
        "    punct = '!\"#$%&\\'()*+,./:;<=>?@[\\\\]^_`{|}~-'\n",
        "    lowercased = line.lower()\n",
        "    return lowercased.translate(str.maketrans('','',punct)).strip()"
      ]
    },
    {
      "cell_type": "code",
      "execution_count": null,
      "metadata": {
        "id": "kJkIhzhf2OOZ"
      },
      "outputs": [],
      "source": [
        "pg100 = pg100.map(clean_text)"
      ]
    },
    {
      "cell_type": "code",
      "execution_count": null,
      "metadata": {
        "id": "LC2UP7dV2TL4"
      },
      "outputs": [],
      "source": [
        "pg100.take(10)"
      ]
    },
    {
      "cell_type": "code",
      "execution_count": null,
      "metadata": {
        "id": "6mMtEUtqqKbu"
      },
      "outputs": [],
      "source": [
        "all_words = pg100.flatMap(lambda line: line.split())"
      ]
    },
    {
      "cell_type": "code",
      "execution_count": null,
      "metadata": {
        "id": "NnRljCB8y99h"
      },
      "outputs": [],
      "source": [
        "all_words.take(20)"
      ]
    },
    {
      "cell_type": "code",
      "execution_count": null,
      "metadata": {
        "id": "oB_vLKsL28oG"
      },
      "outputs": [],
      "source": [
        "pg100_count = all_words.map(lambda word: (word,1))"
      ]
    },
    {
      "cell_type": "code",
      "execution_count": null,
      "metadata": {
        "id": "-sytgJTN3QjB"
      },
      "outputs": [],
      "source": [
        "pg100_rbk = pg100_count.reduceByKey(lambda a,b: a+b).sortByKey()"
      ]
    },
    {
      "cell_type": "code",
      "execution_count": null,
      "metadata": {
        "id": "onoUbfSCAeOc"
      },
      "outputs": [],
      "source": [
        "pg100_rbk.persist()"
      ]
    },
    {
      "cell_type": "code",
      "execution_count": null,
      "metadata": {
        "id": "QZOgoq8o4u7a"
      },
      "outputs": [],
      "source": [
        "pg100_rbk.take(10)"
      ]
    },
    {
      "cell_type": "markdown",
      "metadata": {
        "id": "xbb_gluS5xy9"
      },
      "source": [
        "###Truco para encontrar las palabras con mas ocurrencias:"
      ]
    },
    {
      "cell_type": "code",
      "execution_count": null,
      "metadata": {
        "id": "AZ9vkLhz3fCT"
      },
      "outputs": [],
      "source": [
        "pg100_rbk.map(lambda tupla: (tupla[1],tupla[0])).sortByKey(False).take(10)"
      ]
    },
    {
      "cell_type": "code",
      "execution_count": null,
      "metadata": {
        "id": "muICZj4a6Odn"
      },
      "outputs": [],
      "source": [
        "import nltk"
      ]
    },
    {
      "cell_type": "code",
      "execution_count": null,
      "metadata": {
        "id": "lMR5lSUw6X7g"
      },
      "outputs": [],
      "source": [
        "nltk.download('stopwords')"
      ]
    },
    {
      "cell_type": "code",
      "execution_count": null,
      "metadata": {
        "id": "tNGIvPr56cMl"
      },
      "outputs": [],
      "source": [
        "from nltk.corpus import stopwords\n",
        "stopwords = stopwords.words('english')\n",
        "stopwords"
      ]
    },
    {
      "cell_type": "markdown",
      "metadata": {
        "id": "qCnPuz7ZLV3B"
      },
      "source": [
        "###Dejamos solo las palabras que no sean stopwords:"
      ]
    },
    {
      "cell_type": "code",
      "execution_count": null,
      "metadata": {
        "id": "_Z4s8Kza6l3g"
      },
      "outputs": [],
      "source": [
        "pg100_rbk = pg100_rbk.filter(lambda tupla: tupla[0] not in stopwords)"
      ]
    },
    {
      "cell_type": "code",
      "execution_count": null,
      "metadata": {
        "id": "E1b19dOp7RV0"
      },
      "outputs": [],
      "source": [
        "pg100_rbk.map(lambda tupla: (tupla[1],tupla[0])).sortByKey(False).take(20)"
      ]
    },
    {
      "cell_type": "code",
      "execution_count": null,
      "metadata": {
        "id": "6cLp9kOf8xDG"
      },
      "outputs": [],
      "source": [
        "from wordcloud import WordCloud\n",
        "import matplotlib.pyplot as plt"
      ]
    },
    {
      "cell_type": "code",
      "execution_count": null,
      "metadata": {
        "id": "KKhQR1FB-15Z"
      },
      "outputs": [],
      "source": [
        "word_dict = {tupla[0]:float(tupla[1]) for tupla in pg100_rbk.collect()}"
      ]
    },
    {
      "cell_type": "code",
      "execution_count": null,
      "metadata": {
        "id": "lNhDfMFtBpJr"
      },
      "outputs": [],
      "source": [
        "wc = WordCloud(width=3000,height=1000).generate_from_frequencies(word_dict)"
      ]
    },
    {
      "cell_type": "code",
      "execution_count": null,
      "metadata": {
        "id": "Fg41QCFn_We7"
      },
      "outputs": [],
      "source": [
        "plt.figure(figsize=(30, 10))\n",
        "plt.imshow(wc)\n",
        "plt.axis(\"off\")"
      ]
    }
  ],
  "metadata": {
    "colab": {
      "name": "Spark-WordCount.ipynb",
      "provenance": []
    },
    "kernelspec": {
      "display_name": "Python 3.9.7 64-bit",
      "language": "python",
      "name": "python3"
    },
    "language_info": {
      "name": "python",
      "version": "3.10.0"
    },
    "vscode": {
      "interpreter": {
        "hash": "aee8b7b246df8f9039afb4144a1f6fd8d2ca17a180786b69acc140d282b71a49"
      }
    }
  },
  "nbformat": 4,
  "nbformat_minor": 0
}
